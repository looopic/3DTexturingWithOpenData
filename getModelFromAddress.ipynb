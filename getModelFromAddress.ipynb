{
 "cells": [
  {
   "cell_type": "markdown",
   "metadata": {},
   "source": [
    "# Get from Address to Model"
   ]
  },
  {
   "cell_type": "code",
   "execution_count": 1,
   "metadata": {},
   "outputs": [],
   "source": [
    "import urllib\n",
    "import requests\n",
    "import json"
   ]
  },
  {
   "cell_type": "markdown",
   "metadata": {},
   "source": [
    "## Geo-Admin API\n",
    "Access of the API"
   ]
  },
  {
   "cell_type": "code",
   "execution_count": 2,
   "metadata": {},
   "outputs": [],
   "source": [
    "#Definition of parameters\n",
    "text = input(\"Please enter an address: \") #Input of the address to search for\n",
    "base_url=\"https://api3.geo.admin.ch/rest/services/api/SearchServer?\"\n",
    "parameters = {\"searchText\": text, \"origins\": \"address\", \"type\": \"locations\",}\n",
    "\n",
    "#Request\n",
    "r = requests.get(f\"{base_url}{urllib.parse.urlencode(parameters)}\")\n",
    "\n",
    "data = json.loads(r.content)\n",
    "#print(data)"
   ]
  },
  {
   "cell_type": "markdown",
   "metadata": {},
   "source": [
    "Geographic display of returned results"
   ]
  },
  {
   "cell_type": "code",
   "execution_count": 3,
   "metadata": {},
   "outputs": [
    {
     "data": {
      "text/html": [
       "<div style=\"width:100%;\"><div style=\"position:relative;width:100%;height:0;padding-bottom:60%;\"><span style=\"color:#565656\">Make this Notebook Trusted to load map: File -> Trust Notebook</span><iframe srcdoc=\"&lt;!DOCTYPE html&gt;\n",
       "&lt;html&gt;\n",
       "&lt;head&gt;\n",
       "    \n",
       "    &lt;meta http-equiv=&quot;content-type&quot; content=&quot;text/html; charset=UTF-8&quot; /&gt;\n",
       "    \n",
       "        &lt;script&gt;\n",
       "            L_NO_TOUCH = false;\n",
       "            L_DISABLE_3D = false;\n",
       "        &lt;/script&gt;\n",
       "    \n",
       "    &lt;style&gt;html, body {width: 100%;height: 100%;margin: 0;padding: 0;}&lt;/style&gt;\n",
       "    &lt;style&gt;#map {position:absolute;top:0;bottom:0;right:0;left:0;}&lt;/style&gt;\n",
       "    &lt;script src=&quot;https://cdn.jsdelivr.net/npm/leaflet@1.9.3/dist/leaflet.js&quot;&gt;&lt;/script&gt;\n",
       "    &lt;script src=&quot;https://code.jquery.com/jquery-3.7.1.min.js&quot;&gt;&lt;/script&gt;\n",
       "    &lt;script src=&quot;https://cdn.jsdelivr.net/npm/bootstrap@5.2.2/dist/js/bootstrap.bundle.min.js&quot;&gt;&lt;/script&gt;\n",
       "    &lt;script src=&quot;https://cdnjs.cloudflare.com/ajax/libs/Leaflet.awesome-markers/2.0.2/leaflet.awesome-markers.js&quot;&gt;&lt;/script&gt;\n",
       "    &lt;link rel=&quot;stylesheet&quot; href=&quot;https://cdn.jsdelivr.net/npm/leaflet@1.9.3/dist/leaflet.css&quot;/&gt;\n",
       "    &lt;link rel=&quot;stylesheet&quot; href=&quot;https://cdn.jsdelivr.net/npm/bootstrap@5.2.2/dist/css/bootstrap.min.css&quot;/&gt;\n",
       "    &lt;link rel=&quot;stylesheet&quot; href=&quot;https://netdna.bootstrapcdn.com/bootstrap/3.0.0/css/bootstrap.min.css&quot;/&gt;\n",
       "    &lt;link rel=&quot;stylesheet&quot; href=&quot;https://cdn.jsdelivr.net/npm/@fortawesome/fontawesome-free@6.2.0/css/all.min.css&quot;/&gt;\n",
       "    &lt;link rel=&quot;stylesheet&quot; href=&quot;https://cdnjs.cloudflare.com/ajax/libs/Leaflet.awesome-markers/2.0.2/leaflet.awesome-markers.css&quot;/&gt;\n",
       "    &lt;link rel=&quot;stylesheet&quot; href=&quot;https://cdn.jsdelivr.net/gh/python-visualization/folium/folium/templates/leaflet.awesome.rotate.min.css&quot;/&gt;\n",
       "    \n",
       "            &lt;meta name=&quot;viewport&quot; content=&quot;width=device-width,\n",
       "                initial-scale=1.0, maximum-scale=1.0, user-scalable=no&quot; /&gt;\n",
       "            &lt;style&gt;\n",
       "                #map_db3d74cf64229d9292982c9c8f2b2c5b {\n",
       "                    position: relative;\n",
       "                    width: 100.0%;\n",
       "                    height: 100.0%;\n",
       "                    left: 0.0%;\n",
       "                    top: 0.0%;\n",
       "                }\n",
       "                .leaflet-container { font-size: 1rem; }\n",
       "            &lt;/style&gt;\n",
       "        \n",
       "&lt;/head&gt;\n",
       "&lt;body&gt;\n",
       "    \n",
       "    \n",
       "            &lt;div class=&quot;folium-map&quot; id=&quot;map_db3d74cf64229d9292982c9c8f2b2c5b&quot; &gt;&lt;/div&gt;\n",
       "        \n",
       "&lt;/body&gt;\n",
       "&lt;script&gt;\n",
       "    \n",
       "    \n",
       "            var map_db3d74cf64229d9292982c9c8f2b2c5b = L.map(\n",
       "                &quot;map_db3d74cf64229d9292982c9c8f2b2c5b&quot;,\n",
       "                {\n",
       "                    center: [47.63404846191406, 8.694016456604004],\n",
       "                    crs: L.CRS.EPSG3857,\n",
       "                    zoom: 20,\n",
       "                    zoomControl: true,\n",
       "                    preferCanvas: false,\n",
       "                }\n",
       "            );\n",
       "\n",
       "            \n",
       "\n",
       "        \n",
       "    \n",
       "            var tile_layer_2bf063826aebaff6b553b9bd90229b8e = L.tileLayer(\n",
       "                &quot;https://tile.openstreetmap.org/{z}/{x}/{y}.png&quot;,\n",
       "                {&quot;attribution&quot;: &quot;\\u0026copy; \\u003ca href=\\&quot;https://www.openstreetmap.org/copyright\\&quot;\\u003eOpenStreetMap\\u003c/a\\u003e contributors&quot;, &quot;detectRetina&quot;: false, &quot;maxNativeZoom&quot;: 19, &quot;maxZoom&quot;: 19, &quot;minZoom&quot;: 0, &quot;noWrap&quot;: false, &quot;opacity&quot;: 1, &quot;subdomains&quot;: &quot;abc&quot;, &quot;tms&quot;: false}\n",
       "            );\n",
       "        \n",
       "    \n",
       "            tile_layer_2bf063826aebaff6b553b9bd90229b8e.addTo(map_db3d74cf64229d9292982c9c8f2b2c5b);\n",
       "        \n",
       "    \n",
       "            var marker_4a0662cd1371dd2873777053748872b3 = L.marker(\n",
       "                [47.63404846191406, 8.694016456604004],\n",
       "                {}\n",
       "            ).addTo(map_db3d74cf64229d9292982c9c8f2b2c5b);\n",
       "        \n",
       "    \n",
       "        var popup_f1d7fc49355a14e95ed276c8b5e4e963 = L.popup({&quot;maxWidth&quot;: &quot;100%&quot;});\n",
       "\n",
       "        \n",
       "            \n",
       "                var html_a1aa8b6f78b7dff42a6a287ad2aad7c0 = $(`&lt;div id=&quot;html_a1aa8b6f78b7dff42a6a287ad2aad7c0&quot; style=&quot;width: 100.0%; height: 100.0%;&quot;&gt;Index: 0&lt;/div&gt;`)[0];\n",
       "                popup_f1d7fc49355a14e95ed276c8b5e4e963.setContent(html_a1aa8b6f78b7dff42a6a287ad2aad7c0);\n",
       "            \n",
       "        \n",
       "\n",
       "        marker_4a0662cd1371dd2873777053748872b3.bindPopup(popup_f1d7fc49355a14e95ed276c8b5e4e963)\n",
       "        ;\n",
       "\n",
       "        \n",
       "    \n",
       "    \n",
       "            var marker_18ebbe8e655739efe2c1a1ff0d4eff40 = L.marker(\n",
       "                [47.634090423583984, 8.694190979003906],\n",
       "                {}\n",
       "            ).addTo(map_db3d74cf64229d9292982c9c8f2b2c5b);\n",
       "        \n",
       "    \n",
       "        var popup_e59812033bd893bcf7d40bd4848a06e2 = L.popup({&quot;maxWidth&quot;: &quot;100%&quot;});\n",
       "\n",
       "        \n",
       "            \n",
       "                var html_85bf2e14be07ecc00eb167f0097dc169 = $(`&lt;div id=&quot;html_85bf2e14be07ecc00eb167f0097dc169&quot; style=&quot;width: 100.0%; height: 100.0%;&quot;&gt;Index: 1&lt;/div&gt;`)[0];\n",
       "                popup_e59812033bd893bcf7d40bd4848a06e2.setContent(html_85bf2e14be07ecc00eb167f0097dc169);\n",
       "            \n",
       "        \n",
       "\n",
       "        marker_18ebbe8e655739efe2c1a1ff0d4eff40.bindPopup(popup_e59812033bd893bcf7d40bd4848a06e2)\n",
       "        ;\n",
       "\n",
       "        \n",
       "    \n",
       "    \n",
       "            var marker_2ede2c1b3c2434ce060e8faf2491e780 = L.marker(\n",
       "                [47.63389205932617, 8.694341659545898],\n",
       "                {}\n",
       "            ).addTo(map_db3d74cf64229d9292982c9c8f2b2c5b);\n",
       "        \n",
       "    \n",
       "        var popup_95fa43f18d61e48c4202cfb9e0607883 = L.popup({&quot;maxWidth&quot;: &quot;100%&quot;});\n",
       "\n",
       "        \n",
       "            \n",
       "                var html_0227c2d78fab56f2813acdfd30f5d14e = $(`&lt;div id=&quot;html_0227c2d78fab56f2813acdfd30f5d14e&quot; style=&quot;width: 100.0%; height: 100.0%;&quot;&gt;Index: 2&lt;/div&gt;`)[0];\n",
       "                popup_95fa43f18d61e48c4202cfb9e0607883.setContent(html_0227c2d78fab56f2813acdfd30f5d14e);\n",
       "            \n",
       "        \n",
       "\n",
       "        marker_2ede2c1b3c2434ce060e8faf2491e780.bindPopup(popup_95fa43f18d61e48c4202cfb9e0607883)\n",
       "        ;\n",
       "\n",
       "        \n",
       "    \n",
       "&lt;/script&gt;\n",
       "&lt;/html&gt;\" style=\"position:absolute;width:100%;height:100%;left:0;top:0;border:none !important;\" allowfullscreen webkitallowfullscreen mozallowfullscreen></iframe></div></div>"
      ],
      "text/plain": [
       "<folium.folium.Map at 0x1dc0dfe1110>"
      ]
     },
     "execution_count": 3,
     "metadata": {},
     "output_type": "execute_result"
    }
   ],
   "source": [
    "import folium\n",
    "\n",
    "# Create a map centered at the first item's latitude and longitude\n",
    "map_center = [data['results'][0]['attrs']['lat'], data['results'][0]['attrs']['lon']]\n",
    "m = folium.Map(location=map_center, zoom_start=20)\n",
    "\n",
    "# Add markers for each item with annotations\n",
    "for i, result in enumerate(data['results']):\n",
    "    lat = result['attrs']['lat']\n",
    "    lon = result['attrs']['lon']\n",
    "    label = f\"Index: {i}\"\n",
    "    folium.Marker([lat, lon], popup=label).add_to(m)\n",
    "\n",
    "# Display the map\n",
    "m\n"
   ]
  },
  {
   "cell_type": "code",
   "execution_count": 4,
   "metadata": {},
   "outputs": [],
   "source": [
    "#Select the desired item\n",
    "index = int(input(\"Please enter the index of the item you want to select: \"))\n",
    "selected_building = data['results'][index]\n",
    "#print(selected_building)\n"
   ]
  },
  {
   "cell_type": "markdown",
   "metadata": {},
   "source": [
    "## KML files\n",
    "Check KML files for desired building"
   ]
  },
  {
   "cell_type": "code",
   "execution_count": 5,
   "metadata": {},
   "outputs": [
    {
     "name": "stdout",
     "output_type": "stream",
     "text": [
      "Latitude: 47.63404846191406 Longitude: 8.694016456604004\n",
      "Found 6 KML files ['swissBUILDINGS3D\\\\1031-44\\\\1031-44.kml', 'swissBUILDINGS3D\\\\1032-33\\\\1032-33.kml', 'swissBUILDINGS3D\\\\1032-34\\\\1032-34.kml', 'swissBUILDINGS3D\\\\1051-22\\\\1051-22.kml', 'swissBUILDINGS3D\\\\1052-11\\\\1052-11.kml', 'swissBUILDINGS3D\\\\1052-12\\\\1052-12.kml']\n"
     ]
    }
   ],
   "source": [
    "import os\n",
    "import re\n",
    "import math\n",
    "\n",
    "# Define the folder path\n",
    "folder_path = \"swissBUILDINGS3D\"\n",
    "\n",
    "# Get the latitude and longitude from the selected_item\n",
    "lat = float(selected_building['attrs']['lat'])\n",
    "lon = float(selected_building['attrs']['lon'])\n",
    "print(f\"Latitude: {lat}\", f\"Longitude: {lon}\")\n",
    "\n",
    "# Define the calculate_distance function\n",
    "def calculate_distance(lat1, lon1, lat2, lon2):\n",
    "    # Convert coordinates to radians\n",
    "    lat1_rad = math.radians(lat1)\n",
    "    lon1_rad = math.radians(lon1)\n",
    "    lat2_rad = math.radians(lat2)\n",
    "    lon2_rad = math.radians(lon2)\n",
    "\n",
    "    # Haversine formula\n",
    "    dlon = lon2_rad - lon1_rad\n",
    "    dlat = lat2_rad - lat1_rad\n",
    "    a = math.sin(dlat/2)**2 + math.cos(lat1_rad) * math.cos(lat2_rad) * math.sin(dlon/2)**2\n",
    "    c = 2 * math.atan2(math.sqrt(a), math.sqrt(1-a))\n",
    "    distance = 6371 * c  # Earth radius in kilometers\n",
    "\n",
    "    return distance\n",
    "\n",
    "# Search for KML files in the folder\n",
    "kml_files = []\n",
    "for root, dirs, files in os.walk(folder_path):\n",
    "    for file in files:\n",
    "        if file.endswith(\".kml\"):\n",
    "            kml_files.append(os.path.join(root, file))\n",
    "\n",
    "print(f\"Found {len(kml_files)} KML files\", kml_files)\n",
    "\n",
    "# Define the tolerance in kilometers\n",
    "tolerance = 0.01\n",
    "\n",
    "# List to store the filtered KML data\n",
    "filtered_kml_data = []\n",
    "\n",
    "# Iterate through the KML files\n",
    "for kml_file in kml_files:\n",
    "    with open(kml_file, 'r') as file:\n",
    "        kml_content = file.read()\n",
    "        \n",
    "        # Extract the latitude and longitude values from the KML content\n",
    "        latitudes = re.findall(r'<latitude>(.*?)</latitude>', kml_content)\n",
    "        longitudes = re.findall(r'<longitude>(.*?)</longitude>', kml_content)\n",
    "        hrefs = re.findall(r'<href>(.*?)</href>', kml_content)\n",
    "        \n",
    "        # Convert the latitude and longitude values to float\n",
    "        latitudes = [float(lat) for lat in latitudes]\n",
    "        longitudes = [float(lon) for lon in longitudes]\n",
    "        \n",
    "        # Check if any entry is within the tolerance\n",
    "        for i in range(len(latitudes)):\n",
    "            distance = calculate_distance(lat, lon, latitudes[i], longitudes[i])\n",
    "            if distance <= tolerance:\n",
    "                filtered_kml_data.append((kml_file, latitudes[i], longitudes[i],  hrefs[i]))\n",
    "\n",
    "# Print the filtered KML data\n",
    "#for data in filtered_kml_data:\n",
    "    #print(f\"KML File: {data[0]}, Latitude: {data[1]}, Longitude: {data[2]}, href: {data[3]}\")\n",
    "\n"
   ]
  },
  {
   "cell_type": "markdown",
   "metadata": {},
   "source": [
    "## Get model data from kml"
   ]
  },
  {
   "cell_type": "code",
   "execution_count": 6,
   "metadata": {},
   "outputs": [],
   "source": [
    "import collada\n",
    "\n",
    "kml = filtered_kml_data[0][0].split(\"\\\\\")[1]\n",
    "model = filtered_kml_data[0][3].split(\"/\")[-1]\n",
    "\n",
    "for data in filtered_kml_data:\n",
    "    kml_file = data[0]\n",
    "    lat = data[1]\n",
    "    lon = data[2]\n",
    "    href = data[3]\n",
    "    \n",
    "    # Load the COLLADA file\n",
    "    coll = collada.Collada(\"swissBUILDINGS3D\\\\\"+kml+\"\\\\models\\\\\"+model)\n",
    "    #print (\"swissBUILDINGS3D\\\\\"+kml+\"\\\\models\\\\\"+model)\n",
    "    # Extract the geometry\n",
    "    #print(coll)\n",
    "    #print(coll.geometries)\n",
    "    #print(coll.geometries[0].primitives)\n",
    "    #for i in coll.geometries[0].primitives[0]:\n",
    "        #print(i)\n"
   ]
  },
  {
   "cell_type": "code",
   "execution_count": 7,
   "metadata": {},
   "outputs": [],
   "source": [
    "import numpy as np\n",
    "from ipygany import PolyMesh\n",
    "\n",
    "meshes=[]\n",
    "\n",
    "for i in range(len(coll.geometries)):\n",
    "    \n",
    "    vertices = []\n",
    "    faces = []\n",
    "\n",
    "    for triangle in coll.geometries[i].primitives[0]:\n",
    "        # Extract the vertices of the triangle\n",
    "        v1, v2, v3 = triangle.vertices\n",
    "        \n",
    "        # Add the vertices to the vertices list\n",
    "        vertices.append(v1)\n",
    "        vertices.append(v2)\n",
    "        vertices.append(v3)\n",
    "        \n",
    "        # Calculate the indices of the vertices in the faces list\n",
    "        index1 = len(vertices) - 3\n",
    "        index2 = len(vertices) - 2\n",
    "        index3 = len(vertices) - 1\n",
    "        \n",
    "        # Add the indices to the faces list\n",
    "        faces.append([index1, index2, index3])\n",
    "\n",
    "    # Convert the vertices and faces lists to numpy arrays\n",
    "    vertices = np.array(vertices)\n",
    "    faces = np.array(faces)\n",
    "\n",
    "    # Create the PolyMesh\n",
    "    mesh = PolyMesh(vertices=vertices, triangle_indices=faces)\n",
    "    meshes.append(mesh)\n",
    "\n",
    "#print(meshes[0].vertices)\n"
   ]
  },
  {
   "cell_type": "code",
   "execution_count": 8,
   "metadata": {},
   "outputs": [
    {
     "data": {
      "application/vnd.jupyter.widget-view+json": {
       "model_id": "bca605ad5a8c43759398e8bed5268df4",
       "version_major": 2,
       "version_minor": 0
      },
      "text/plain": [
       "Scene(children=[PolyMesh(data=[], triangle_indices=array([ 0,  1,  2,  3,  4,  5,  6,  7,  8,  9, 10, 11, 12, …"
      ]
     },
     "execution_count": 8,
     "metadata": {},
     "output_type": "execute_result"
    }
   ],
   "source": [
    "#Draw the whole building\n",
    "from ipygany import Scene\n",
    "\n",
    "sceneHouse = Scene(meshes)\n",
    "sceneHouse"
   ]
  },
  {
   "cell_type": "code",
   "execution_count": 9,
   "metadata": {},
   "outputs": [
    {
     "data": {
      "application/vnd.jupyter.widget-view+json": {
       "model_id": "e2e747a1ef864b23ac5d5222d44ccbb1",
       "version_major": 2,
       "version_minor": 0
      },
      "text/plain": [
       "Scene(children=[PolyMesh(data=[], triangle_indices=array([ 0,  1,  2,  3,  4,  5,  6,  7,  8,  9, 10, 11, 12, …"
      ]
     },
     "execution_count": 9,
     "metadata": {},
     "output_type": "execute_result"
    }
   ],
   "source": [
    "walls = [mesh for mesh in meshes if (mesh.vertices[2::3].max()- mesh.vertices[2::3].min())> 5]\n",
    "\n",
    "sceneWalls = Scene(walls)\n",
    "sceneWalls\n"
   ]
  },
  {
   "cell_type": "code",
   "execution_count": 10,
   "metadata": {},
   "outputs": [
    {
     "data": {
      "application/vnd.jupyter.widget-view+json": {
       "model_id": "e6fa1d1bbeab43a9a61b261650e1dbb6",
       "version_major": 2,
       "version_minor": 0
      },
      "text/plain": [
       "Scene(children=[PolyMesh(data=[], triangle_indices=array([ 0,  1,  2,  3,  4,  5,  6,  7,  8,  9, 10, 11, 12, …"
      ]
     },
     "execution_count": 10,
     "metadata": {},
     "output_type": "execute_result"
    }
   ],
   "source": [
    "roof = [mesh for mesh in meshes if not (mesh.vertices[2::3].max()- mesh.vertices[2::3].min())> 5]\n",
    "\n",
    "sceneRoof = Scene(roof)\n",
    "sceneRoof"
   ]
  },
  {
   "cell_type": "code",
   "execution_count": 11,
   "metadata": {},
   "outputs": [
    {
     "data": {
      "application/vnd.jupyter.widget-view+json": {
       "model_id": "ad7242157c174973804bf07f236019df",
       "version_major": 2,
       "version_minor": 0
      },
      "text/plain": [
       "Scene(children=[PolyMesh(data=[], triangle_indices=array([ 0,  1,  2,  3,  4,  5,  6,  7,  8,  9, 10, 11, 12, …"
      ]
     },
     "execution_count": 11,
     "metadata": {},
     "output_type": "execute_result"
    }
   ],
   "source": [
    "num_triangles = len(walls[0].vertices)/9\n",
    "ns_walls, we_walls = [], []\n",
    "ns_vertices, we_vertices = [], []\n",
    "ns_faces, we_faces = [], []\n",
    "triangles = []\n",
    "ns_index=0\n",
    "we_index=0\n",
    "for i in range(int(num_triangles)):\n",
    "    triangle= walls[0].vertices[i*9:(i+1)*9]\n",
    "    triangles.append(triangle)\n",
    "for triangle in triangles:\n",
    "    x1, y1, z1 = triangle[0], triangle[1], triangle[2]\n",
    "    x2, y2, z2 = triangle[3], triangle[4], triangle[5]\n",
    "    x3, y3, z3 = triangle[6], triangle[7], triangle[8]\n",
    "\n",
    "    dir12 = np.array([abs(x2 - x1), abs(y2 - y1)])\n",
    "    dir13 = np.array([abs(x3 - x1), abs(y3 - y1)])\n",
    "    dir23 = np.array([abs(x3 - x2), abs(y3 - y2)])\n",
    "\n",
    "    if(max(dir12[0], dir13[0], dir23[0])>max(dir12[1],dir13[1],dir23[1])):\n",
    "        ns_vertices.append(triangle)\n",
    "        ns_faces.append([ns_index, ns_index+1, ns_index+2])\n",
    "        ns_index+=3\n",
    "\n",
    "    else:\n",
    "        we_vertices.append(triangle)\n",
    "        we_faces.append([we_index, we_index+1, we_index+2])\n",
    "        we_index+=3\n",
    "\n",
    "ns_walls.append(PolyMesh(vertices=ns_vertices, triangle_indices=ns_faces))\n",
    "we_walls.append(PolyMesh(vertices=we_vertices, triangle_indices=we_faces))\n",
    "\n",
    "sceneNS =Scene(we_walls)\n",
    "sceneNS\n"
   ]
  },
  {
   "cell_type": "code",
   "execution_count": null,
   "metadata": {},
   "outputs": [],
   "source": []
  },
  {
   "cell_type": "markdown",
   "metadata": {},
   "source": [
    "## Upload images from the building"
   ]
  },
  {
   "cell_type": "code",
   "execution_count": null,
   "metadata": {},
   "outputs": [],
   "source": []
  }
 ],
 "metadata": {
  "kernelspec": {
   "display_name": ".venv",
   "language": "python",
   "name": "python3"
  },
  "language_info": {
   "codemirror_mode": {
    "name": "ipython",
    "version": 3
   },
   "file_extension": ".py",
   "mimetype": "text/x-python",
   "name": "python",
   "nbconvert_exporter": "python",
   "pygments_lexer": "ipython3",
   "version": "3.11.3"
  }
 },
 "nbformat": 4,
 "nbformat_minor": 2
}
