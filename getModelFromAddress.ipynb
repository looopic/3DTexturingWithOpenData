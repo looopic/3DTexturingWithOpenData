{
 "cells": [
  {
   "cell_type": "markdown",
   "metadata": {},
   "source": [
    "# Get from Address to Model"
   ]
  },
  {
   "cell_type": "code",
   "execution_count": 71,
   "metadata": {},
   "outputs": [],
   "source": [
    "import urllib\n",
    "import requests\n",
    "import json"
   ]
  },
  {
   "cell_type": "markdown",
   "metadata": {},
   "source": [
    "## Geo-Admin API\n",
    "Access of the API"
   ]
  },
  {
   "cell_type": "code",
   "execution_count": 72,
   "metadata": {},
   "outputs": [
    {
     "name": "stdout",
     "output_type": "stream",
     "text": [
      "{'results': [{'attrs': {'detail': 'widmergasse 19 8466 truellikon 40 truellikon ch zh', 'featureId': '12870_0', 'geom_quadindex': '012232210032122231000', 'geom_st_box2d': 'BOX(694347.29027415 276686.7814323578,694347.29027415 276686.7814323578)', 'label': 'Widmergasse 19 <b>8466 Trüllikon</b>', 'lat': 47.63404846191406, 'lon': 8.694016456604004, 'num': 19, 'objectclass': '', 'origin': 'address', 'rank': 7, 'x': 276686.78125, 'y': 694347.3125, 'zoomlevel': 10}, 'id': 7017, 'weight': 1}, {'attrs': {'detail': 'widmergasse 19.1 8466 truellikon 40 truellikon ch zh', 'featureId': '210226908_0', 'geom_quadindex': '012232210032122310321', 'geom_st_box2d': 'BOX(694360.3364026649 276691.3415635696,694360.3364026649 276691.3415635696)', 'label': 'Widmergasse 19.1 <b>8466 Trüllikon</b>', 'lat': 47.634090423583984, 'lon': 8.694190979003906, 'num': 191, 'objectclass': '', 'origin': 'address', 'rank': 7, 'x': 276691.34375, 'y': 694360.3125, 'zoomlevel': 10}, 'id': 2125786, 'weight': 8}, {'attrs': {'detail': 'widmergasse 19.2 8466 truellikon 40 truellikon ch zh', 'featureId': '210226972_0', 'geom_quadindex': '012232210032301021330', 'geom_st_box2d': 'BOX(694372.001495032 276669.4795108603,694372.001495032 276669.4795108603)', 'label': 'Widmergasse 19.2 <b>8466 Trüllikon</b>', 'lat': 47.63389205932617, 'lon': 8.694341659545898, 'num': 192, 'objectclass': '', 'origin': 'address', 'rank': 7, 'x': 276669.46875, 'y': 694372.0, 'zoomlevel': 10}, 'id': 2122384, 'weight': 8}]}\n"
     ]
    }
   ],
   "source": [
    "#Definition of parameters\n",
    "text = input(\"Please enter an address: \") #Input of the address to search for\n",
    "base_url=\"https://api3.geo.admin.ch/rest/services/api/SearchServer?\"\n",
    "parameters = {\"searchText\": text, \"origins\": \"address\", \"type\": \"locations\",}\n",
    "\n",
    "#Request\n",
    "r = requests.get(f\"{base_url}{urllib.parse.urlencode(parameters)}\")\n",
    "\n",
    "data = json.loads(r.content)\n",
    "print(data)"
   ]
  },
  {
   "cell_type": "markdown",
   "metadata": {},
   "source": [
    "Geographic display of returned results"
   ]
  },
  {
   "cell_type": "code",
   "execution_count": 73,
   "metadata": {},
   "outputs": [
    {
     "data": {
      "text/html": [
       "<div style=\"width:100%;\"><div style=\"position:relative;width:100%;height:0;padding-bottom:60%;\"><span style=\"color:#565656\">Make this Notebook Trusted to load map: File -> Trust Notebook</span><iframe srcdoc=\"&lt;!DOCTYPE html&gt;\n",
       "&lt;html&gt;\n",
       "&lt;head&gt;\n",
       "    \n",
       "    &lt;meta http-equiv=&quot;content-type&quot; content=&quot;text/html; charset=UTF-8&quot; /&gt;\n",
       "    \n",
       "        &lt;script&gt;\n",
       "            L_NO_TOUCH = false;\n",
       "            L_DISABLE_3D = false;\n",
       "        &lt;/script&gt;\n",
       "    \n",
       "    &lt;style&gt;html, body {width: 100%;height: 100%;margin: 0;padding: 0;}&lt;/style&gt;\n",
       "    &lt;style&gt;#map {position:absolute;top:0;bottom:0;right:0;left:0;}&lt;/style&gt;\n",
       "    &lt;script src=&quot;https://cdn.jsdelivr.net/npm/leaflet@1.9.3/dist/leaflet.js&quot;&gt;&lt;/script&gt;\n",
       "    &lt;script src=&quot;https://code.jquery.com/jquery-3.7.1.min.js&quot;&gt;&lt;/script&gt;\n",
       "    &lt;script src=&quot;https://cdn.jsdelivr.net/npm/bootstrap@5.2.2/dist/js/bootstrap.bundle.min.js&quot;&gt;&lt;/script&gt;\n",
       "    &lt;script src=&quot;https://cdnjs.cloudflare.com/ajax/libs/Leaflet.awesome-markers/2.0.2/leaflet.awesome-markers.js&quot;&gt;&lt;/script&gt;\n",
       "    &lt;link rel=&quot;stylesheet&quot; href=&quot;https://cdn.jsdelivr.net/npm/leaflet@1.9.3/dist/leaflet.css&quot;/&gt;\n",
       "    &lt;link rel=&quot;stylesheet&quot; href=&quot;https://cdn.jsdelivr.net/npm/bootstrap@5.2.2/dist/css/bootstrap.min.css&quot;/&gt;\n",
       "    &lt;link rel=&quot;stylesheet&quot; href=&quot;https://netdna.bootstrapcdn.com/bootstrap/3.0.0/css/bootstrap.min.css&quot;/&gt;\n",
       "    &lt;link rel=&quot;stylesheet&quot; href=&quot;https://cdn.jsdelivr.net/npm/@fortawesome/fontawesome-free@6.2.0/css/all.min.css&quot;/&gt;\n",
       "    &lt;link rel=&quot;stylesheet&quot; href=&quot;https://cdnjs.cloudflare.com/ajax/libs/Leaflet.awesome-markers/2.0.2/leaflet.awesome-markers.css&quot;/&gt;\n",
       "    &lt;link rel=&quot;stylesheet&quot; href=&quot;https://cdn.jsdelivr.net/gh/python-visualization/folium/folium/templates/leaflet.awesome.rotate.min.css&quot;/&gt;\n",
       "    \n",
       "            &lt;meta name=&quot;viewport&quot; content=&quot;width=device-width,\n",
       "                initial-scale=1.0, maximum-scale=1.0, user-scalable=no&quot; /&gt;\n",
       "            &lt;style&gt;\n",
       "                #map_8b975b7fcb962345f99cded064b99483 {\n",
       "                    position: relative;\n",
       "                    width: 100.0%;\n",
       "                    height: 100.0%;\n",
       "                    left: 0.0%;\n",
       "                    top: 0.0%;\n",
       "                }\n",
       "                .leaflet-container { font-size: 1rem; }\n",
       "            &lt;/style&gt;\n",
       "        \n",
       "&lt;/head&gt;\n",
       "&lt;body&gt;\n",
       "    \n",
       "    \n",
       "            &lt;div class=&quot;folium-map&quot; id=&quot;map_8b975b7fcb962345f99cded064b99483&quot; &gt;&lt;/div&gt;\n",
       "        \n",
       "&lt;/body&gt;\n",
       "&lt;script&gt;\n",
       "    \n",
       "    \n",
       "            var map_8b975b7fcb962345f99cded064b99483 = L.map(\n",
       "                &quot;map_8b975b7fcb962345f99cded064b99483&quot;,\n",
       "                {\n",
       "                    center: [47.63404846191406, 8.694016456604004],\n",
       "                    crs: L.CRS.EPSG3857,\n",
       "                    zoom: 20,\n",
       "                    zoomControl: true,\n",
       "                    preferCanvas: false,\n",
       "                }\n",
       "            );\n",
       "\n",
       "            \n",
       "\n",
       "        \n",
       "    \n",
       "            var tile_layer_1ab912f6c7f6fd00dee6e3517d7940c8 = L.tileLayer(\n",
       "                &quot;https://tile.openstreetmap.org/{z}/{x}/{y}.png&quot;,\n",
       "                {&quot;attribution&quot;: &quot;\\u0026copy; \\u003ca href=\\&quot;https://www.openstreetmap.org/copyright\\&quot;\\u003eOpenStreetMap\\u003c/a\\u003e contributors&quot;, &quot;detectRetina&quot;: false, &quot;maxNativeZoom&quot;: 19, &quot;maxZoom&quot;: 19, &quot;minZoom&quot;: 0, &quot;noWrap&quot;: false, &quot;opacity&quot;: 1, &quot;subdomains&quot;: &quot;abc&quot;, &quot;tms&quot;: false}\n",
       "            );\n",
       "        \n",
       "    \n",
       "            tile_layer_1ab912f6c7f6fd00dee6e3517d7940c8.addTo(map_8b975b7fcb962345f99cded064b99483);\n",
       "        \n",
       "    \n",
       "            var marker_dc368257ca563fc4a5d8c923a325bde1 = L.marker(\n",
       "                [47.63404846191406, 8.694016456604004],\n",
       "                {}\n",
       "            ).addTo(map_8b975b7fcb962345f99cded064b99483);\n",
       "        \n",
       "    \n",
       "        var popup_6d61fb4228bf24137f9aafba61b37cf8 = L.popup({&quot;maxWidth&quot;: &quot;100%&quot;});\n",
       "\n",
       "        \n",
       "            \n",
       "                var html_7fc8dabd7827c7f86283bcb50d7302f7 = $(`&lt;div id=&quot;html_7fc8dabd7827c7f86283bcb50d7302f7&quot; style=&quot;width: 100.0%; height: 100.0%;&quot;&gt;Index: 0&lt;/div&gt;`)[0];\n",
       "                popup_6d61fb4228bf24137f9aafba61b37cf8.setContent(html_7fc8dabd7827c7f86283bcb50d7302f7);\n",
       "            \n",
       "        \n",
       "\n",
       "        marker_dc368257ca563fc4a5d8c923a325bde1.bindPopup(popup_6d61fb4228bf24137f9aafba61b37cf8)\n",
       "        ;\n",
       "\n",
       "        \n",
       "    \n",
       "    \n",
       "            var marker_3b68215f0baefff2387f476653589e8f = L.marker(\n",
       "                [47.634090423583984, 8.694190979003906],\n",
       "                {}\n",
       "            ).addTo(map_8b975b7fcb962345f99cded064b99483);\n",
       "        \n",
       "    \n",
       "        var popup_a9add213e6870f6d6dacf7b2a475b8aa = L.popup({&quot;maxWidth&quot;: &quot;100%&quot;});\n",
       "\n",
       "        \n",
       "            \n",
       "                var html_092c81be6bd2bd8940bafc18da59150b = $(`&lt;div id=&quot;html_092c81be6bd2bd8940bafc18da59150b&quot; style=&quot;width: 100.0%; height: 100.0%;&quot;&gt;Index: 1&lt;/div&gt;`)[0];\n",
       "                popup_a9add213e6870f6d6dacf7b2a475b8aa.setContent(html_092c81be6bd2bd8940bafc18da59150b);\n",
       "            \n",
       "        \n",
       "\n",
       "        marker_3b68215f0baefff2387f476653589e8f.bindPopup(popup_a9add213e6870f6d6dacf7b2a475b8aa)\n",
       "        ;\n",
       "\n",
       "        \n",
       "    \n",
       "    \n",
       "            var marker_37e2435e21d9183430feea35173f4df2 = L.marker(\n",
       "                [47.63389205932617, 8.694341659545898],\n",
       "                {}\n",
       "            ).addTo(map_8b975b7fcb962345f99cded064b99483);\n",
       "        \n",
       "    \n",
       "        var popup_0044546de869e65d9b6d8a86cab028ea = L.popup({&quot;maxWidth&quot;: &quot;100%&quot;});\n",
       "\n",
       "        \n",
       "            \n",
       "                var html_89d2c77c24836607809162ebac7f74ad = $(`&lt;div id=&quot;html_89d2c77c24836607809162ebac7f74ad&quot; style=&quot;width: 100.0%; height: 100.0%;&quot;&gt;Index: 2&lt;/div&gt;`)[0];\n",
       "                popup_0044546de869e65d9b6d8a86cab028ea.setContent(html_89d2c77c24836607809162ebac7f74ad);\n",
       "            \n",
       "        \n",
       "\n",
       "        marker_37e2435e21d9183430feea35173f4df2.bindPopup(popup_0044546de869e65d9b6d8a86cab028ea)\n",
       "        ;\n",
       "\n",
       "        \n",
       "    \n",
       "&lt;/script&gt;\n",
       "&lt;/html&gt;\" style=\"position:absolute;width:100%;height:100%;left:0;top:0;border:none !important;\" allowfullscreen webkitallowfullscreen mozallowfullscreen></iframe></div></div>"
      ],
      "text/plain": [
       "<folium.folium.Map at 0x23db163dad0>"
      ]
     },
     "execution_count": 73,
     "metadata": {},
     "output_type": "execute_result"
    }
   ],
   "source": [
    "import folium\n",
    "\n",
    "# Create a map centered at the first item's latitude and longitude\n",
    "map_center = [data['results'][0]['attrs']['lat'], data['results'][0]['attrs']['lon']]\n",
    "m = folium.Map(location=map_center, zoom_start=20)\n",
    "\n",
    "# Add markers for each item with annotations\n",
    "for i, result in enumerate(data['results']):\n",
    "    lat = result['attrs']['lat']\n",
    "    lon = result['attrs']['lon']\n",
    "    label = f\"Index: {i}\"\n",
    "    folium.Marker([lat, lon], popup=label).add_to(m)\n",
    "\n",
    "# Display the map\n",
    "m\n"
   ]
  },
  {
   "cell_type": "code",
   "execution_count": 74,
   "metadata": {},
   "outputs": [
    {
     "name": "stdout",
     "output_type": "stream",
     "text": [
      "{'attrs': {'detail': 'widmergasse 19 8466 truellikon 40 truellikon ch zh', 'featureId': '12870_0', 'geom_quadindex': '012232210032122231000', 'geom_st_box2d': 'BOX(694347.29027415 276686.7814323578,694347.29027415 276686.7814323578)', 'label': 'Widmergasse 19 <b>8466 Trüllikon</b>', 'lat': 47.63404846191406, 'lon': 8.694016456604004, 'num': 19, 'objectclass': '', 'origin': 'address', 'rank': 7, 'x': 276686.78125, 'y': 694347.3125, 'zoomlevel': 10}, 'id': 7017, 'weight': 1}\n"
     ]
    }
   ],
   "source": [
    "#Select the desired item\n",
    "index = int(input(\"Please enter the index of the item you want to select: \"))\n",
    "selected_item = data['results'][index]\n",
    "print(selected_item)\n"
   ]
  },
  {
   "cell_type": "markdown",
   "metadata": {},
   "source": [
    "## KML files\n",
    "Check KML files for desired building"
   ]
  },
  {
   "cell_type": "code",
   "execution_count": 75,
   "metadata": {},
   "outputs": [
    {
     "name": "stdout",
     "output_type": "stream",
     "text": [
      "Latitude: 47.63404846191406 Longitude: 8.694016456604004\n",
      "Found 6 KML files ['swissBUILDINGS3D\\\\1031-44\\\\1031-44.kml', 'swissBUILDINGS3D\\\\1032-33\\\\1032-33.kml', 'swissBUILDINGS3D\\\\1032-34\\\\1032-34.kml', 'swissBUILDINGS3D\\\\1051-22\\\\1051-22.kml', 'swissBUILDINGS3D\\\\1052-11\\\\1052-11.kml', 'swissBUILDINGS3D\\\\1052-12\\\\1052-12.kml']\n",
      "KML File: swissBUILDINGS3D\\1052-11\\1052-11.kml, Latitude: 47.634047498746725, Longitude: 8.694078211780825, href: models/model_2045.dae\n"
     ]
    }
   ],
   "source": [
    "import os\n",
    "import re\n",
    "import math\n",
    "\n",
    "# Define the folder path\n",
    "folder_path = \"swissBUILDINGS3D\"\n",
    "\n",
    "# Get the latitude and longitude from the selected_item\n",
    "lat = float(selected_item['attrs']['lat'])\n",
    "lon = float(selected_item['attrs']['lon'])\n",
    "print(f\"Latitude: {lat}\", f\"Longitude: {lon}\")\n",
    "\n",
    "# Define the calculate_distance function\n",
    "def calculate_distance(lat1, lon1, lat2, lon2):\n",
    "    # Convert coordinates to radians\n",
    "    lat1_rad = math.radians(lat1)\n",
    "    lon1_rad = math.radians(lon1)\n",
    "    lat2_rad = math.radians(lat2)\n",
    "    lon2_rad = math.radians(lon2)\n",
    "\n",
    "    # Haversine formula\n",
    "    dlon = lon2_rad - lon1_rad\n",
    "    dlat = lat2_rad - lat1_rad\n",
    "    a = math.sin(dlat/2)**2 + math.cos(lat1_rad) * math.cos(lat2_rad) * math.sin(dlon/2)**2\n",
    "    c = 2 * math.atan2(math.sqrt(a), math.sqrt(1-a))\n",
    "    distance = 6371 * c  # Earth radius in kilometers\n",
    "\n",
    "    return distance\n",
    "\n",
    "# Search for KML files in the folder\n",
    "kml_files = []\n",
    "for root, dirs, files in os.walk(folder_path):\n",
    "    for file in files:\n",
    "        if file.endswith(\".kml\"):\n",
    "            kml_files.append(os.path.join(root, file))\n",
    "\n",
    "print(f\"Found {len(kml_files)} KML files\", kml_files)\n",
    "\n",
    "# Define the tolerance in kilometers\n",
    "tolerance = 0.01\n",
    "\n",
    "# List to store the filtered KML data\n",
    "filtered_kml_data = []\n",
    "\n",
    "# Iterate through the KML files\n",
    "for kml_file in kml_files:\n",
    "    with open(kml_file, 'r') as file:\n",
    "        kml_content = file.read()\n",
    "        \n",
    "        # Extract the latitude and longitude values from the KML content\n",
    "        latitudes = re.findall(r'<latitude>(.*?)</latitude>', kml_content)\n",
    "        longitudes = re.findall(r'<longitude>(.*?)</longitude>', kml_content)\n",
    "        hrefs = re.findall(r'<href>(.*?)</href>', kml_content)\n",
    "        \n",
    "        # Convert the latitude and longitude values to float\n",
    "        latitudes = [float(lat) for lat in latitudes]\n",
    "        longitudes = [float(lon) for lon in longitudes]\n",
    "        \n",
    "        # Check if any entry is within the tolerance\n",
    "        for i in range(len(latitudes)):\n",
    "            distance = calculate_distance(lat, lon, latitudes[i], longitudes[i])\n",
    "            if distance <= tolerance:\n",
    "                filtered_kml_data.append((kml_file, latitudes[i], longitudes[i],  hrefs[i]))\n",
    "\n",
    "# Print the filtered KML data\n",
    "for data in filtered_kml_data:\n",
    "    print(f\"KML File: {data[0]}, Latitude: {data[1]}, Longitude: {data[2]}, href: {data[3]}\")\n",
    "\n"
   ]
  },
  {
   "cell_type": "markdown",
   "metadata": {},
   "source": [
    "## Get model data from kml"
   ]
  },
  {
   "cell_type": "code",
   "execution_count": 76,
   "metadata": {},
   "outputs": [
    {
     "name": "stdout",
     "output_type": "stream",
     "text": [
      "swissBUILDINGS3D\\1052-11\\models\\model_2045.dae\n",
      "<Collada geometries=4>\n",
      "[<Geometry id=g_0, 1 primitives>, <Geometry id=g_1, 1 primitives>, <Geometry id=g_2, 1 primitives>, <Geometry id=g_3, 1 primitives>]\n",
      "[<TriangleSet length=10>]\n",
      "<Triangle ([ -3.1614728   3.1393507 477.35     ], [  0.6268737   8.523992  476.011    ], [ -4.5226707   6.318286  476.011    ], \"material0\")>\n",
      "<Triangle ([  3.954176   -1.1537193 479.961    ], [  0.6268737   8.523992  476.011    ], [ -3.1614728   3.1393507 477.35     ], \"material0\")>\n",
      "<Triangle ([  4.6439295  -0.8587421 479.961    ], [  0.6268737   8.523992  476.011    ], [  3.954176   -1.1537193 479.961    ], \"material0\")>\n",
      "<Triangle ([ -3.0441387  -4.1518803 479.961    ], [ -3.1614728   3.1393507 477.35     ], [ -6.389766    1.7559415 477.35     ], \"material0\")>\n",
      "<Triangle ([  3.954176   -1.1537193 479.961    ], [ -3.1614728   3.1393507 477.35     ], [ -3.0441387  -4.1518803 479.961    ], \"material0\")>\n",
      "<Triangle ([ -3.0441387  -4.1518803 479.961    ], [ -6.389766    1.7559415 477.35     ], [ -3.7338922  -4.4468575 479.961    ], \"material0\")>\n",
      "<Triangle ([  3.954176   -1.1537193 479.961    ], [  6.3897734  -4.935876  478.381    ], [  4.6439295  -0.8587421 479.961    ], \"material0\")>\n",
      "<Triangle ([ -3.0441387  -4.1518803 479.961    ], [  6.3897734  -4.935876  478.381    ], [  3.954176   -1.1537193 479.961    ], \"material0\")>\n",
      "<Triangle ([ -1.9880483  -8.523992  478.381    ], [  6.3897734  -4.935876  478.381    ], [ -3.0441387  -4.1518803 479.961    ], \"material0\")>\n",
      "<Triangle ([ -1.9880483  -8.523992  478.381    ], [ -3.0441387  -4.1518803 479.961    ], [ -3.7338922  -4.4468575 479.961    ], \"material0\")>\n"
     ]
    }
   ],
   "source": [
    "import collada\n",
    "\n",
    "kml = filtered_kml_data[0][0].split(\"\\\\\")[1]\n",
    "model = filtered_kml_data[0][3].split(\"/\")[-1]\n",
    "\n",
    "for data in filtered_kml_data:\n",
    "    kml_file = data[0]\n",
    "    lat = data[1]\n",
    "    lon = data[2]\n",
    "    href = data[3]\n",
    "    \n",
    "    # Load the COLLADA file\n",
    "    coll = collada.Collada(\"swissBUILDINGS3D\\\\\"+kml+\"\\\\models\\\\\"+model)\n",
    "    print (\"swissBUILDINGS3D\\\\\"+kml+\"\\\\models\\\\\"+model)\n",
    "    # Extract the geometry\n",
    "    print(coll)\n",
    "    print(coll.geometries)\n",
    "    print(coll.geometries[0].primitives)\n",
    "    for i in coll.geometries[0].primitives[0]:\n",
    "        print(i)\n"
   ]
  },
  {
   "cell_type": "code",
   "execution_count": 77,
   "metadata": {},
   "outputs": [],
   "source": [
    "import numpy as np\n",
    "from ipygany import PolyMesh\n",
    "\n",
    "meshes=[]\n",
    "\n",
    "for i in range(len(coll.geometries)):\n",
    "    \n",
    "    vertices = []\n",
    "    faces = []\n",
    "\n",
    "    for triangle in coll.geometries[i].primitives[0]:\n",
    "        # Extract the vertices of the triangle\n",
    "        v1, v2, v3 = triangle.vertices\n",
    "        \n",
    "        # Add the vertices to the vertices list\n",
    "        vertices.append(v1)\n",
    "        vertices.append(v2)\n",
    "        vertices.append(v3)\n",
    "        \n",
    "        # Calculate the indices of the vertices in the faces list\n",
    "        index1 = len(vertices) - 3\n",
    "        index2 = len(vertices) - 2\n",
    "        index3 = len(vertices) - 1\n",
    "        \n",
    "        # Add the indices to the faces list\n",
    "        faces.append([index1, index2, index3])\n",
    "\n",
    "    # Convert the vertices and faces lists to numpy arrays\n",
    "    vertices = np.array(vertices)\n",
    "    faces = np.array(faces)\n",
    "\n",
    "    # Create the PolyMesh\n",
    "    mesh = PolyMesh(vertices=vertices, faces=faces)\n",
    "    meshes.append(mesh)\n"
   ]
  },
  {
   "cell_type": "code",
   "execution_count": 78,
   "metadata": {},
   "outputs": [
    {
     "data": {
      "application/vnd.jupyter.widget-view+json": {
       "model_id": "c311f1360f5546b9b14614cd34845c04",
       "version_major": 2,
       "version_minor": 0
      },
      "text/plain": [
       "Scene(children=[PolyMesh(data=[], triangle_indices=array([ 0,  1,  2,  3,  4,  5,  6,  7,  8,  9, 10, 11, 12, …"
      ]
     },
     "execution_count": 78,
     "metadata": {},
     "output_type": "execute_result"
    }
   ],
   "source": [
    "#Draw the whole building\n",
    "from ipygany import Scene\n",
    "\n",
    "scene = Scene(meshes)\n",
    "scene"
   ]
  },
  {
   "cell_type": "markdown",
   "metadata": {},
   "source": [
    "## Upload images from the building"
   ]
  },
  {
   "cell_type": "code",
   "execution_count": null,
   "metadata": {},
   "outputs": [],
   "source": []
  }
 ],
 "metadata": {
  "kernelspec": {
   "display_name": ".venv",
   "language": "python",
   "name": "python3"
  },
  "language_info": {
   "codemirror_mode": {
    "name": "ipython",
    "version": 3
   },
   "file_extension": ".py",
   "mimetype": "text/x-python",
   "name": "python",
   "nbconvert_exporter": "python",
   "pygments_lexer": "ipython3",
   "version": "3.11.3"
  }
 },
 "nbformat": 4,
 "nbformat_minor": 2
}
