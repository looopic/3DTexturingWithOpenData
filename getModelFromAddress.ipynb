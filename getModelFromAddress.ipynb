{
 "cells": [
  {
   "cell_type": "markdown",
   "metadata": {},
   "source": [
    "# Get from Address to Model"
   ]
  },
  {
   "cell_type": "code",
   "execution_count": 1,
   "metadata": {},
   "outputs": [],
   "source": [
    "import urllib\n",
    "import requests\n",
    "import json"
   ]
  },
  {
   "cell_type": "markdown",
   "metadata": {},
   "source": [
    "## Geo-Admin API\n",
    "Access of the API"
   ]
  },
  {
   "cell_type": "code",
   "execution_count": 6,
   "metadata": {},
   "outputs": [
    {
     "name": "stdout",
     "output_type": "stream",
     "text": [
      "{'results': [{'attrs': {'detail': 'schlossgasse 10 8466 truellikon 40 truellikon ch zh', 'featureId': '2258532_0', 'geom_quadindex': '012232210012232023121', 'geom_st_box2d': 'BOX(694283.6260471889 277048.37627719354,694283.6260471889 277048.37627719354)', 'label': 'Schlossgasse 10 <b>8466 Trüllikon</b>', 'lat': 47.63731002807617, 'lon': 8.693245887756348, 'num': 10, 'objectclass': '', 'origin': 'address', 'rank': 7, 'x': 277048.375, 'y': 694283.625, 'zoomlevel': 10}, 'id': 1023913, 'weight': 1}, {'attrs': {'detail': 'schlossgasse 10.1 8466 truellikon 40 truellikon ch zh', 'featureId': '210227233_0', 'geom_quadindex': '012232210012223332123', 'geom_st_box2d': 'BOX(694272.6209356401 277033.48909112054,694272.6209356401 277033.48909112054)', 'label': 'Schlossgasse 10.1 <b>8466 Trüllikon</b>', 'lat': 47.637176513671875, 'lon': 8.693096160888672, 'num': 101, 'objectclass': '', 'origin': 'address', 'rank': 7, 'x': 277033.5, 'y': 694272.625, 'zoomlevel': 10}, 'id': 2160671, 'weight': 7}, {'attrs': {'detail': 'schlossgasse 10.2 8466 truellikon 40 truellikon ch zh', 'featureId': '210227180_0', 'geom_quadindex': '012232210030010001321', 'geom_st_box2d': 'BOX(694283.665026845 277028.4661485711,694283.665026845 277028.4661485711)', 'label': 'Schlossgasse 10.2 <b>8466 Trüllikon</b>', 'lat': 47.63713073730469, 'lon': 8.693242073059082, 'num': 102, 'objectclass': '', 'origin': 'address', 'rank': 7, 'x': 277028.46875, 'y': 694283.6875, 'zoomlevel': 10}, 'id': 2165085, 'weight': 7}]}\n"
     ]
    }
   ],
   "source": [
    "#Definition of parameters\n",
    "text = input(\"Please enter an address: \") #Input of the address to search for\n",
    "base_url=\"https://api3.geo.admin.ch/rest/services/api/SearchServer?\"\n",
    "parameters = {\"searchText\": text, \"origins\": \"address\", \"type\": \"locations\",}\n",
    "\n",
    "#Request\n",
    "r = requests.get(f\"{base_url}{urllib.parse.urlencode(parameters)}\")\n",
    "\n",
    "data = json.loads(r.content)\n",
    "print(data)"
   ]
  },
  {
   "cell_type": "markdown",
   "metadata": {},
   "source": [
    "Geographic display of returned results"
   ]
  },
  {
   "cell_type": "code",
   "execution_count": 7,
   "metadata": {},
   "outputs": [
    {
     "data": {
      "text/html": [
       "<div style=\"width:100%;\"><div style=\"position:relative;width:100%;height:0;padding-bottom:60%;\"><span style=\"color:#565656\">Make this Notebook Trusted to load map: File -> Trust Notebook</span><iframe srcdoc=\"&lt;!DOCTYPE html&gt;\n",
       "&lt;html&gt;\n",
       "&lt;head&gt;\n",
       "    \n",
       "    &lt;meta http-equiv=&quot;content-type&quot; content=&quot;text/html; charset=UTF-8&quot; /&gt;\n",
       "    \n",
       "        &lt;script&gt;\n",
       "            L_NO_TOUCH = false;\n",
       "            L_DISABLE_3D = false;\n",
       "        &lt;/script&gt;\n",
       "    \n",
       "    &lt;style&gt;html, body {width: 100%;height: 100%;margin: 0;padding: 0;}&lt;/style&gt;\n",
       "    &lt;style&gt;#map {position:absolute;top:0;bottom:0;right:0;left:0;}&lt;/style&gt;\n",
       "    &lt;script src=&quot;https://cdn.jsdelivr.net/npm/leaflet@1.9.3/dist/leaflet.js&quot;&gt;&lt;/script&gt;\n",
       "    &lt;script src=&quot;https://code.jquery.com/jquery-3.7.1.min.js&quot;&gt;&lt;/script&gt;\n",
       "    &lt;script src=&quot;https://cdn.jsdelivr.net/npm/bootstrap@5.2.2/dist/js/bootstrap.bundle.min.js&quot;&gt;&lt;/script&gt;\n",
       "    &lt;script src=&quot;https://cdnjs.cloudflare.com/ajax/libs/Leaflet.awesome-markers/2.0.2/leaflet.awesome-markers.js&quot;&gt;&lt;/script&gt;\n",
       "    &lt;link rel=&quot;stylesheet&quot; href=&quot;https://cdn.jsdelivr.net/npm/leaflet@1.9.3/dist/leaflet.css&quot;/&gt;\n",
       "    &lt;link rel=&quot;stylesheet&quot; href=&quot;https://cdn.jsdelivr.net/npm/bootstrap@5.2.2/dist/css/bootstrap.min.css&quot;/&gt;\n",
       "    &lt;link rel=&quot;stylesheet&quot; href=&quot;https://netdna.bootstrapcdn.com/bootstrap/3.0.0/css/bootstrap.min.css&quot;/&gt;\n",
       "    &lt;link rel=&quot;stylesheet&quot; href=&quot;https://cdn.jsdelivr.net/npm/@fortawesome/fontawesome-free@6.2.0/css/all.min.css&quot;/&gt;\n",
       "    &lt;link rel=&quot;stylesheet&quot; href=&quot;https://cdnjs.cloudflare.com/ajax/libs/Leaflet.awesome-markers/2.0.2/leaflet.awesome-markers.css&quot;/&gt;\n",
       "    &lt;link rel=&quot;stylesheet&quot; href=&quot;https://cdn.jsdelivr.net/gh/python-visualization/folium/folium/templates/leaflet.awesome.rotate.min.css&quot;/&gt;\n",
       "    \n",
       "            &lt;meta name=&quot;viewport&quot; content=&quot;width=device-width,\n",
       "                initial-scale=1.0, maximum-scale=1.0, user-scalable=no&quot; /&gt;\n",
       "            &lt;style&gt;\n",
       "                #map_660cd71d1bb2648236cc8de4aed4fae5 {\n",
       "                    position: relative;\n",
       "                    width: 100.0%;\n",
       "                    height: 100.0%;\n",
       "                    left: 0.0%;\n",
       "                    top: 0.0%;\n",
       "                }\n",
       "                .leaflet-container { font-size: 1rem; }\n",
       "            &lt;/style&gt;\n",
       "        \n",
       "&lt;/head&gt;\n",
       "&lt;body&gt;\n",
       "    \n",
       "    \n",
       "            &lt;div class=&quot;folium-map&quot; id=&quot;map_660cd71d1bb2648236cc8de4aed4fae5&quot; &gt;&lt;/div&gt;\n",
       "        \n",
       "&lt;/body&gt;\n",
       "&lt;script&gt;\n",
       "    \n",
       "    \n",
       "            var map_660cd71d1bb2648236cc8de4aed4fae5 = L.map(\n",
       "                &quot;map_660cd71d1bb2648236cc8de4aed4fae5&quot;,\n",
       "                {\n",
       "                    center: [47.63731002807617, 8.693245887756348],\n",
       "                    crs: L.CRS.EPSG3857,\n",
       "                    zoom: 20,\n",
       "                    zoomControl: true,\n",
       "                    preferCanvas: false,\n",
       "                }\n",
       "            );\n",
       "\n",
       "            \n",
       "\n",
       "        \n",
       "    \n",
       "            var tile_layer_ad65266db4b12da1875f7ab2850370d4 = L.tileLayer(\n",
       "                &quot;https://tile.openstreetmap.org/{z}/{x}/{y}.png&quot;,\n",
       "                {&quot;attribution&quot;: &quot;\\u0026copy; \\u003ca href=\\&quot;https://www.openstreetmap.org/copyright\\&quot;\\u003eOpenStreetMap\\u003c/a\\u003e contributors&quot;, &quot;detectRetina&quot;: false, &quot;maxNativeZoom&quot;: 19, &quot;maxZoom&quot;: 19, &quot;minZoom&quot;: 0, &quot;noWrap&quot;: false, &quot;opacity&quot;: 1, &quot;subdomains&quot;: &quot;abc&quot;, &quot;tms&quot;: false}\n",
       "            );\n",
       "        \n",
       "    \n",
       "            tile_layer_ad65266db4b12da1875f7ab2850370d4.addTo(map_660cd71d1bb2648236cc8de4aed4fae5);\n",
       "        \n",
       "    \n",
       "            var marker_86ea8eb03657f731394d1882279f25d7 = L.marker(\n",
       "                [47.63731002807617, 8.693245887756348],\n",
       "                {}\n",
       "            ).addTo(map_660cd71d1bb2648236cc8de4aed4fae5);\n",
       "        \n",
       "    \n",
       "        var popup_f813d11786458610a2ee80f559a3bba3 = L.popup({&quot;maxWidth&quot;: &quot;100%&quot;});\n",
       "\n",
       "        \n",
       "            \n",
       "                var html_8d2fdee27e1758602be6b93f5bf603e3 = $(`&lt;div id=&quot;html_8d2fdee27e1758602be6b93f5bf603e3&quot; style=&quot;width: 100.0%; height: 100.0%;&quot;&gt;Index: 0&lt;/div&gt;`)[0];\n",
       "                popup_f813d11786458610a2ee80f559a3bba3.setContent(html_8d2fdee27e1758602be6b93f5bf603e3);\n",
       "            \n",
       "        \n",
       "\n",
       "        marker_86ea8eb03657f731394d1882279f25d7.bindPopup(popup_f813d11786458610a2ee80f559a3bba3)\n",
       "        ;\n",
       "\n",
       "        \n",
       "    \n",
       "    \n",
       "            var marker_1647278e9f80116bbb6fb4f5173ea72b = L.marker(\n",
       "                [47.637176513671875, 8.693096160888672],\n",
       "                {}\n",
       "            ).addTo(map_660cd71d1bb2648236cc8de4aed4fae5);\n",
       "        \n",
       "    \n",
       "        var popup_8d46d62c5b4253a6dfe8539dc684f40e = L.popup({&quot;maxWidth&quot;: &quot;100%&quot;});\n",
       "\n",
       "        \n",
       "            \n",
       "                var html_ac3de07d102b8b02cbf9d0e024438e53 = $(`&lt;div id=&quot;html_ac3de07d102b8b02cbf9d0e024438e53&quot; style=&quot;width: 100.0%; height: 100.0%;&quot;&gt;Index: 1&lt;/div&gt;`)[0];\n",
       "                popup_8d46d62c5b4253a6dfe8539dc684f40e.setContent(html_ac3de07d102b8b02cbf9d0e024438e53);\n",
       "            \n",
       "        \n",
       "\n",
       "        marker_1647278e9f80116bbb6fb4f5173ea72b.bindPopup(popup_8d46d62c5b4253a6dfe8539dc684f40e)\n",
       "        ;\n",
       "\n",
       "        \n",
       "    \n",
       "    \n",
       "            var marker_066e7cc81aa45274d8c3f868a99b5e29 = L.marker(\n",
       "                [47.63713073730469, 8.693242073059082],\n",
       "                {}\n",
       "            ).addTo(map_660cd71d1bb2648236cc8de4aed4fae5);\n",
       "        \n",
       "    \n",
       "        var popup_138dd40745333404481afb4c438de0b7 = L.popup({&quot;maxWidth&quot;: &quot;100%&quot;});\n",
       "\n",
       "        \n",
       "            \n",
       "                var html_ed558c47a7123395b260bd7e6842d9e6 = $(`&lt;div id=&quot;html_ed558c47a7123395b260bd7e6842d9e6&quot; style=&quot;width: 100.0%; height: 100.0%;&quot;&gt;Index: 2&lt;/div&gt;`)[0];\n",
       "                popup_138dd40745333404481afb4c438de0b7.setContent(html_ed558c47a7123395b260bd7e6842d9e6);\n",
       "            \n",
       "        \n",
       "\n",
       "        marker_066e7cc81aa45274d8c3f868a99b5e29.bindPopup(popup_138dd40745333404481afb4c438de0b7)\n",
       "        ;\n",
       "\n",
       "        \n",
       "    \n",
       "&lt;/script&gt;\n",
       "&lt;/html&gt;\" style=\"position:absolute;width:100%;height:100%;left:0;top:0;border:none !important;\" allowfullscreen webkitallowfullscreen mozallowfullscreen></iframe></div></div>"
      ],
      "text/plain": [
       "<folium.folium.Map at 0x1a2e9057c50>"
      ]
     },
     "execution_count": 7,
     "metadata": {},
     "output_type": "execute_result"
    }
   ],
   "source": [
    "import folium\n",
    "\n",
    "# Create a map centered at the first item's latitude and longitude\n",
    "map_center = [data['results'][0]['attrs']['lat'], data['results'][0]['attrs']['lon']]\n",
    "m = folium.Map(location=map_center, zoom_start=20)\n",
    "\n",
    "# Add markers for each item with annotations\n",
    "for i, result in enumerate(data['results']):\n",
    "    lat = result['attrs']['lat']\n",
    "    lon = result['attrs']['lon']\n",
    "    label = f\"Index: {i}\"\n",
    "    folium.Marker([lat, lon], popup=label).add_to(m)\n",
    "\n",
    "# Display the map\n",
    "m\n"
   ]
  },
  {
   "cell_type": "code",
   "execution_count": 8,
   "metadata": {},
   "outputs": [
    {
     "name": "stdout",
     "output_type": "stream",
     "text": [
      "{'attrs': {'detail': 'schlossgasse 10 8466 truellikon 40 truellikon ch zh', 'featureId': '2258532_0', 'geom_quadindex': '012232210012232023121', 'geom_st_box2d': 'BOX(694283.6260471889 277048.37627719354,694283.6260471889 277048.37627719354)', 'label': 'Schlossgasse 10 <b>8466 Trüllikon</b>', 'lat': 47.63731002807617, 'lon': 8.693245887756348, 'num': 10, 'objectclass': '', 'origin': 'address', 'rank': 7, 'x': 277048.375, 'y': 694283.625, 'zoomlevel': 10}, 'id': 1023913, 'weight': 1}\n"
     ]
    }
   ],
   "source": [
    "#Select the desired item\n",
    "index = int(input(\"Please enter the index of the item you want to select: \"))\n",
    "selected_item = data['results'][index]\n",
    "print(selected_item)\n"
   ]
  },
  {
   "cell_type": "markdown",
   "metadata": {},
   "source": [
    "## KML files\n",
    "Check KML files for desired building"
   ]
  },
  {
   "cell_type": "code",
   "execution_count": 9,
   "metadata": {},
   "outputs": [
    {
     "name": "stdout",
     "output_type": "stream",
     "text": [
      "Latitude: 47.63731002807617 Longitude: 8.693245887756348\n",
      "Found 6 KML files ['swissBUILDINGS3D 2.0\\\\1031-44\\\\1031-44.kml', 'swissBUILDINGS3D 2.0\\\\1032-33\\\\1032-33.kml', 'swissBUILDINGS3D 2.0\\\\1032-34\\\\1032-34.kml', 'swissBUILDINGS3D 2.0\\\\1051-22\\\\1051-22.kml', 'swissBUILDINGS3D 2.0\\\\1052-11\\\\1052-11.kml', 'swissBUILDINGS3D 2.0\\\\1052-12\\\\1052-12.kml']\n",
      "KML File: swissBUILDINGS3D 2.0\\1052-11\\1052-11.kml, Latitude: 47.63725579935967, Longitude: 8.693209980398464, href: models/model_2127.dae\n"
     ]
    }
   ],
   "source": [
    "import os\n",
    "import re\n",
    "import math\n",
    "\n",
    "# Define the folder path\n",
    "folder_path = \"swissBUILDINGS3D 2.0\"\n",
    "\n",
    "# Get the latitude and longitude from the selected_item\n",
    "lat = float(selected_item['attrs']['lat'])\n",
    "lon = float(selected_item['attrs']['lon'])\n",
    "print(f\"Latitude: {lat}\", f\"Longitude: {lon}\")\n",
    "\n",
    "# Define the calculate_distance function\n",
    "def calculate_distance(lat1, lon1, lat2, lon2):\n",
    "    # Convert coordinates to radians\n",
    "    lat1_rad = math.radians(lat1)\n",
    "    lon1_rad = math.radians(lon1)\n",
    "    lat2_rad = math.radians(lat2)\n",
    "    lon2_rad = math.radians(lon2)\n",
    "\n",
    "    # Haversine formula\n",
    "    dlon = lon2_rad - lon1_rad\n",
    "    dlat = lat2_rad - lat1_rad\n",
    "    a = math.sin(dlat/2)**2 + math.cos(lat1_rad) * math.cos(lat2_rad) * math.sin(dlon/2)**2\n",
    "    c = 2 * math.atan2(math.sqrt(a), math.sqrt(1-a))\n",
    "    distance = 6371 * c  # Earth radius in kilometers\n",
    "\n",
    "    return distance\n",
    "\n",
    "# Search for KML files in the folder\n",
    "kml_files = []\n",
    "for root, dirs, files in os.walk(folder_path):\n",
    "    for file in files:\n",
    "        if file.endswith(\".kml\"):\n",
    "            kml_files.append(os.path.join(root, file))\n",
    "\n",
    "print(f\"Found {len(kml_files)} KML files\", kml_files)\n",
    "\n",
    "# Define the tolerance in kilometers\n",
    "tolerance = 0.01\n",
    "\n",
    "# List to store the filtered KML data\n",
    "filtered_kml_data = []\n",
    "\n",
    "# Iterate through the KML files\n",
    "for kml_file in kml_files:\n",
    "    with open(kml_file, 'r') as file:\n",
    "        kml_content = file.read()\n",
    "        \n",
    "        # Extract the latitude and longitude values from the KML content\n",
    "        latitudes = re.findall(r'<latitude>(.*?)</latitude>', kml_content)\n",
    "        longitudes = re.findall(r'<longitude>(.*?)</longitude>', kml_content)\n",
    "        hrefs = re.findall(r'<href>(.*?)</href>', kml_content)\n",
    "        \n",
    "        # Convert the latitude and longitude values to float\n",
    "        latitudes = [float(lat) for lat in latitudes]\n",
    "        longitudes = [float(lon) for lon in longitudes]\n",
    "        \n",
    "        # Check if any entry is within the tolerance\n",
    "        for i in range(len(latitudes)):\n",
    "            distance = calculate_distance(lat, lon, latitudes[i], longitudes[i])\n",
    "            if distance <= tolerance:\n",
    "                filtered_kml_data.append((kml_file, latitudes[i], longitudes[i],  hrefs[i]))\n",
    "\n",
    "# Print the filtered KML data\n",
    "for data in filtered_kml_data:\n",
    "    print(f\"KML File: {data[0]}, Latitude: {data[1]}, Longitude: {data[2]}, href: {data[3]}\")\n",
    "\n"
   ]
  }
 ],
 "metadata": {
  "kernelspec": {
   "display_name": ".venv",
   "language": "python",
   "name": "python3"
  },
  "language_info": {
   "codemirror_mode": {
    "name": "ipython",
    "version": 3
   },
   "file_extension": ".py",
   "mimetype": "text/x-python",
   "name": "python",
   "nbconvert_exporter": "python",
   "pygments_lexer": "ipython3",
   "version": "3.11.3"
  }
 },
 "nbformat": 4,
 "nbformat_minor": 2
}
