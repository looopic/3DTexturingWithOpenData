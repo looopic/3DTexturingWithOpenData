{
 "cells": [
  {
   "cell_type": "markdown",
   "metadata": {},
   "source": [
    "# Get from Address to Model"
   ]
  },
  {
   "cell_type": "code",
   "execution_count": 2,
   "metadata": {},
   "outputs": [],
   "source": [
    "import urllib\n",
    "import requests\n",
    "import json"
   ]
  },
  {
   "cell_type": "markdown",
   "metadata": {},
   "source": [
    "## Geo-Admin API\n",
    "Access of the API"
   ]
  },
  {
   "cell_type": "code",
   "execution_count": 3,
   "metadata": {},
   "outputs": [],
   "source": [
    "#Definition of parameters\n",
    "text = input(\"Please enter an address: \") #Input of the address to search for\n",
    "base_url=\"https://api3.geo.admin.ch/rest/services/api/SearchServer?\"\n",
    "parameters = {\"searchText\": text, \"origins\": \"address\", \"type\": \"locations\",}\n",
    "\n",
    "#Request\n",
    "r = requests.get(f\"{base_url}{urllib.parse.urlencode(parameters)}\")\n",
    "\n",
    "data = json.loads(r.content)\n",
    "#print(data)"
   ]
  },
  {
   "cell_type": "markdown",
   "metadata": {},
   "source": [
    "Geographic display of returned results"
   ]
  },
  {
   "cell_type": "code",
   "execution_count": 4,
   "metadata": {},
   "outputs": [
    {
     "data": {
      "text/html": [
       "<div style=\"width:100%;\"><div style=\"position:relative;width:100%;height:0;padding-bottom:60%;\"><span style=\"color:#565656\">Make this Notebook Trusted to load map: File -> Trust Notebook</span><iframe srcdoc=\"&lt;!DOCTYPE html&gt;\n",
       "&lt;html&gt;\n",
       "&lt;head&gt;\n",
       "    \n",
       "    &lt;meta http-equiv=&quot;content-type&quot; content=&quot;text/html; charset=UTF-8&quot; /&gt;\n",
       "    \n",
       "        &lt;script&gt;\n",
       "            L_NO_TOUCH = false;\n",
       "            L_DISABLE_3D = false;\n",
       "        &lt;/script&gt;\n",
       "    \n",
       "    &lt;style&gt;html, body {width: 100%;height: 100%;margin: 0;padding: 0;}&lt;/style&gt;\n",
       "    &lt;style&gt;#map {position:absolute;top:0;bottom:0;right:0;left:0;}&lt;/style&gt;\n",
       "    &lt;script src=&quot;https://cdn.jsdelivr.net/npm/leaflet@1.9.3/dist/leaflet.js&quot;&gt;&lt;/script&gt;\n",
       "    &lt;script src=&quot;https://code.jquery.com/jquery-3.7.1.min.js&quot;&gt;&lt;/script&gt;\n",
       "    &lt;script src=&quot;https://cdn.jsdelivr.net/npm/bootstrap@5.2.2/dist/js/bootstrap.bundle.min.js&quot;&gt;&lt;/script&gt;\n",
       "    &lt;script src=&quot;https://cdnjs.cloudflare.com/ajax/libs/Leaflet.awesome-markers/2.0.2/leaflet.awesome-markers.js&quot;&gt;&lt;/script&gt;\n",
       "    &lt;link rel=&quot;stylesheet&quot; href=&quot;https://cdn.jsdelivr.net/npm/leaflet@1.9.3/dist/leaflet.css&quot;/&gt;\n",
       "    &lt;link rel=&quot;stylesheet&quot; href=&quot;https://cdn.jsdelivr.net/npm/bootstrap@5.2.2/dist/css/bootstrap.min.css&quot;/&gt;\n",
       "    &lt;link rel=&quot;stylesheet&quot; href=&quot;https://netdna.bootstrapcdn.com/bootstrap/3.0.0/css/bootstrap.min.css&quot;/&gt;\n",
       "    &lt;link rel=&quot;stylesheet&quot; href=&quot;https://cdn.jsdelivr.net/npm/@fortawesome/fontawesome-free@6.2.0/css/all.min.css&quot;/&gt;\n",
       "    &lt;link rel=&quot;stylesheet&quot; href=&quot;https://cdnjs.cloudflare.com/ajax/libs/Leaflet.awesome-markers/2.0.2/leaflet.awesome-markers.css&quot;/&gt;\n",
       "    &lt;link rel=&quot;stylesheet&quot; href=&quot;https://cdn.jsdelivr.net/gh/python-visualization/folium/folium/templates/leaflet.awesome.rotate.min.css&quot;/&gt;\n",
       "    \n",
       "            &lt;meta name=&quot;viewport&quot; content=&quot;width=device-width,\n",
       "                initial-scale=1.0, maximum-scale=1.0, user-scalable=no&quot; /&gt;\n",
       "            &lt;style&gt;\n",
       "                #map_5bdefff16099e8e4500006e406302e2f {\n",
       "                    position: relative;\n",
       "                    width: 100.0%;\n",
       "                    height: 100.0%;\n",
       "                    left: 0.0%;\n",
       "                    top: 0.0%;\n",
       "                }\n",
       "                .leaflet-container { font-size: 1rem; }\n",
       "            &lt;/style&gt;\n",
       "        \n",
       "&lt;/head&gt;\n",
       "&lt;body&gt;\n",
       "    \n",
       "    \n",
       "            &lt;div class=&quot;folium-map&quot; id=&quot;map_5bdefff16099e8e4500006e406302e2f&quot; &gt;&lt;/div&gt;\n",
       "        \n",
       "&lt;/body&gt;\n",
       "&lt;script&gt;\n",
       "    \n",
       "    \n",
       "            var map_5bdefff16099e8e4500006e406302e2f = L.map(\n",
       "                &quot;map_5bdefff16099e8e4500006e406302e2f&quot;,\n",
       "                {\n",
       "                    center: [47.63404846191406, 8.694016456604004],\n",
       "                    crs: L.CRS.EPSG3857,\n",
       "                    zoom: 20,\n",
       "                    zoomControl: true,\n",
       "                    preferCanvas: false,\n",
       "                }\n",
       "            );\n",
       "\n",
       "            \n",
       "\n",
       "        \n",
       "    \n",
       "            var tile_layer_230400a3394065790d0cd5ba0c2e4958 = L.tileLayer(\n",
       "                &quot;https://tile.openstreetmap.org/{z}/{x}/{y}.png&quot;,\n",
       "                {&quot;attribution&quot;: &quot;\\u0026copy; \\u003ca href=\\&quot;https://www.openstreetmap.org/copyright\\&quot;\\u003eOpenStreetMap\\u003c/a\\u003e contributors&quot;, &quot;detectRetina&quot;: false, &quot;maxNativeZoom&quot;: 19, &quot;maxZoom&quot;: 19, &quot;minZoom&quot;: 0, &quot;noWrap&quot;: false, &quot;opacity&quot;: 1, &quot;subdomains&quot;: &quot;abc&quot;, &quot;tms&quot;: false}\n",
       "            );\n",
       "        \n",
       "    \n",
       "            tile_layer_230400a3394065790d0cd5ba0c2e4958.addTo(map_5bdefff16099e8e4500006e406302e2f);\n",
       "        \n",
       "    \n",
       "            var marker_99ada7c6a36aaa548433ba439256c4a5 = L.marker(\n",
       "                [47.63404846191406, 8.694016456604004],\n",
       "                {}\n",
       "            ).addTo(map_5bdefff16099e8e4500006e406302e2f);\n",
       "        \n",
       "    \n",
       "        var popup_87e92374760e9841022334ef90a38036 = L.popup({&quot;maxWidth&quot;: &quot;100%&quot;});\n",
       "\n",
       "        \n",
       "            \n",
       "                var html_d3b2b13c47410ab287c9ab30469ed06c = $(`&lt;div id=&quot;html_d3b2b13c47410ab287c9ab30469ed06c&quot; style=&quot;width: 100.0%; height: 100.0%;&quot;&gt;Index: 0&lt;/div&gt;`)[0];\n",
       "                popup_87e92374760e9841022334ef90a38036.setContent(html_d3b2b13c47410ab287c9ab30469ed06c);\n",
       "            \n",
       "        \n",
       "\n",
       "        marker_99ada7c6a36aaa548433ba439256c4a5.bindPopup(popup_87e92374760e9841022334ef90a38036)\n",
       "        ;\n",
       "\n",
       "        \n",
       "    \n",
       "    \n",
       "            var marker_692b627823ae775a376b9fdaecdee032 = L.marker(\n",
       "                [47.634090423583984, 8.694190979003906],\n",
       "                {}\n",
       "            ).addTo(map_5bdefff16099e8e4500006e406302e2f);\n",
       "        \n",
       "    \n",
       "        var popup_b2a84c849717b7b14e4aedefd3980e7e = L.popup({&quot;maxWidth&quot;: &quot;100%&quot;});\n",
       "\n",
       "        \n",
       "            \n",
       "                var html_3c7d702706d430c087142715ea80afc0 = $(`&lt;div id=&quot;html_3c7d702706d430c087142715ea80afc0&quot; style=&quot;width: 100.0%; height: 100.0%;&quot;&gt;Index: 1&lt;/div&gt;`)[0];\n",
       "                popup_b2a84c849717b7b14e4aedefd3980e7e.setContent(html_3c7d702706d430c087142715ea80afc0);\n",
       "            \n",
       "        \n",
       "\n",
       "        marker_692b627823ae775a376b9fdaecdee032.bindPopup(popup_b2a84c849717b7b14e4aedefd3980e7e)\n",
       "        ;\n",
       "\n",
       "        \n",
       "    \n",
       "    \n",
       "            var marker_eae0efb26178023379e06ea5e84e9b7b = L.marker(\n",
       "                [47.63389205932617, 8.694341659545898],\n",
       "                {}\n",
       "            ).addTo(map_5bdefff16099e8e4500006e406302e2f);\n",
       "        \n",
       "    \n",
       "        var popup_e592bb72a2518904d2fa256e042fd20b = L.popup({&quot;maxWidth&quot;: &quot;100%&quot;});\n",
       "\n",
       "        \n",
       "            \n",
       "                var html_4d409bdb6922d629688626aee8455e99 = $(`&lt;div id=&quot;html_4d409bdb6922d629688626aee8455e99&quot; style=&quot;width: 100.0%; height: 100.0%;&quot;&gt;Index: 2&lt;/div&gt;`)[0];\n",
       "                popup_e592bb72a2518904d2fa256e042fd20b.setContent(html_4d409bdb6922d629688626aee8455e99);\n",
       "            \n",
       "        \n",
       "\n",
       "        marker_eae0efb26178023379e06ea5e84e9b7b.bindPopup(popup_e592bb72a2518904d2fa256e042fd20b)\n",
       "        ;\n",
       "\n",
       "        \n",
       "    \n",
       "&lt;/script&gt;\n",
       "&lt;/html&gt;\" style=\"position:absolute;width:100%;height:100%;left:0;top:0;border:none !important;\" allowfullscreen webkitallowfullscreen mozallowfullscreen></iframe></div></div>"
      ],
      "text/plain": [
       "<folium.folium.Map at 0x22f63db9bd0>"
      ]
     },
     "execution_count": 4,
     "metadata": {},
     "output_type": "execute_result"
    }
   ],
   "source": [
    "import folium\n",
    "\n",
    "# Create a map centered at the first item's latitude and longitude\n",
    "map_center = [data['results'][0]['attrs']['lat'], data['results'][0]['attrs']['lon']]\n",
    "m = folium.Map(location=map_center, zoom_start=20)\n",
    "\n",
    "# Add markers for each item with annotations\n",
    "for i, result in enumerate(data['results']):\n",
    "    lat = result['attrs']['lat']\n",
    "    lon = result['attrs']['lon']\n",
    "    label = f\"Index: {i}\"\n",
    "    folium.Marker([lat, lon], popup=label).add_to(m)\n",
    "\n",
    "# Display the map\n",
    "m\n"
   ]
  },
  {
   "cell_type": "code",
   "execution_count": 5,
   "metadata": {},
   "outputs": [],
   "source": [
    "#Select the desired item\n",
    "index = int(input(\"Please enter the index of the item you want to select: \"))\n",
    "selected_building = data['results'][index]\n",
    "#print(selected_building)\n"
   ]
  },
  {
   "cell_type": "markdown",
   "metadata": {},
   "source": [
    "## KML files\n",
    "Check KML files for desired building"
   ]
  },
  {
   "cell_type": "code",
   "execution_count": 6,
   "metadata": {},
   "outputs": [
    {
     "name": "stdout",
     "output_type": "stream",
     "text": [
      "Latitude: 47.63404846191406 Longitude: 8.694016456604004\n",
      "Found 6 KML files ['swissBUILDINGS3D\\\\1031-44\\\\1031-44.kml', 'swissBUILDINGS3D\\\\1032-33\\\\1032-33.kml', 'swissBUILDINGS3D\\\\1032-34\\\\1032-34.kml', 'swissBUILDINGS3D\\\\1051-22\\\\1051-22.kml', 'swissBUILDINGS3D\\\\1052-11\\\\1052-11.kml', 'swissBUILDINGS3D\\\\1052-12\\\\1052-12.kml']\n"
     ]
    }
   ],
   "source": [
    "import os\n",
    "import re\n",
    "import math\n",
    "\n",
    "# Define the folder path\n",
    "folder_path = \"swissBUILDINGS3D\"\n",
    "\n",
    "# Get the latitude and longitude from the selected_item\n",
    "lat = float(selected_building['attrs']['lat'])\n",
    "lon = float(selected_building['attrs']['lon'])\n",
    "print(f\"Latitude: {lat}\", f\"Longitude: {lon}\")\n",
    "\n",
    "# Define the calculate_distance function\n",
    "def calculate_distance(lat1, lon1, lat2, lon2):\n",
    "    # Convert coordinates to radians\n",
    "    lat1_rad = math.radians(lat1)\n",
    "    lon1_rad = math.radians(lon1)\n",
    "    lat2_rad = math.radians(lat2)\n",
    "    lon2_rad = math.radians(lon2)\n",
    "\n",
    "    # Haversine formula\n",
    "    dlon = lon2_rad - lon1_rad\n",
    "    dlat = lat2_rad - lat1_rad\n",
    "    a = math.sin(dlat/2)**2 + math.cos(lat1_rad) * math.cos(lat2_rad) * math.sin(dlon/2)**2\n",
    "    c = 2 * math.atan2(math.sqrt(a), math.sqrt(1-a))\n",
    "    distance = 6371 * c  # Earth radius in kilometers\n",
    "\n",
    "    return distance\n",
    "\n",
    "# Search for KML files in the folder\n",
    "kml_files = []\n",
    "for root, dirs, files in os.walk(folder_path):\n",
    "    for file in files:\n",
    "        if file.endswith(\".kml\"):\n",
    "            kml_files.append(os.path.join(root, file))\n",
    "\n",
    "print(f\"Found {len(kml_files)} KML files\", kml_files)\n",
    "\n",
    "# Define the tolerance in kilometers\n",
    "tolerance = 0.01\n",
    "\n",
    "# List to store the filtered KML data\n",
    "filtered_kml_data = []\n",
    "\n",
    "# Iterate through the KML files\n",
    "for kml_file in kml_files:\n",
    "    with open(kml_file, 'r') as file:\n",
    "        kml_content = file.read()\n",
    "        \n",
    "        # Extract the latitude and longitude values from the KML content\n",
    "        latitudes = re.findall(r'<latitude>(.*?)</latitude>', kml_content)\n",
    "        longitudes = re.findall(r'<longitude>(.*?)</longitude>', kml_content)\n",
    "        hrefs = re.findall(r'<href>(.*?)</href>', kml_content)\n",
    "        \n",
    "        # Convert the latitude and longitude values to float\n",
    "        latitudes = [float(lat) for lat in latitudes]\n",
    "        longitudes = [float(lon) for lon in longitudes]\n",
    "        \n",
    "        # Check if any entry is within the tolerance\n",
    "        for i in range(len(latitudes)):\n",
    "            distance = calculate_distance(lat, lon, latitudes[i], longitudes[i])\n",
    "            if distance <= tolerance:\n",
    "                filtered_kml_data.append((kml_file, latitudes[i], longitudes[i],  hrefs[i]))\n",
    "\n",
    "# Print the filtered KML data\n",
    "#for data in filtered_kml_data:\n",
    "    #print(f\"KML File: {data[0]}, Latitude: {data[1]}, Longitude: {data[2]}, href: {data[3]}\")\n",
    "\n"
   ]
  },
  {
   "cell_type": "markdown",
   "metadata": {},
   "source": [
    "## Get model data from kml"
   ]
  },
  {
   "cell_type": "code",
   "execution_count": 7,
   "metadata": {},
   "outputs": [],
   "source": [
    "import collada\n",
    "\n",
    "kml = filtered_kml_data[0][0].split(\"\\\\\")[1]\n",
    "model = filtered_kml_data[0][3].split(\"/\")[-1]\n",
    "\n",
    "for data in filtered_kml_data:\n",
    "    kml_file = data[0]\n",
    "    lat = data[1]\n",
    "    lon = data[2]\n",
    "    href = data[3]\n",
    "    \n",
    "    # Load the COLLADA file\n",
    "    coll = collada.Collada(\"swissBUILDINGS3D\\\\\"+kml+\"\\\\models\\\\\"+model)\n",
    "    #print (\"swissBUILDINGS3D\\\\\"+kml+\"\\\\models\\\\\"+model)\n",
    "    # Extract the geometry\n",
    "    #print(coll)\n",
    "    #print(coll.geometries)\n",
    "    #print(coll.geometries[0].primitives)\n",
    "    #for i in coll.geometries[0].primitives[0]:\n",
    "        #print(i)\n"
   ]
  },
  {
   "cell_type": "code",
   "execution_count": 8,
   "metadata": {},
   "outputs": [],
   "source": [
    "import numpy as np\n",
    "from ipygany import PolyMesh\n",
    "\n",
    "meshes=[]\n",
    "\n",
    "for i in range(len(coll.geometries)):\n",
    "    \n",
    "    vertices = []\n",
    "    faces = []\n",
    "\n",
    "    for triangle in coll.geometries[i].primitives[0]:\n",
    "        # Extract the vertices of the triangle\n",
    "        v1, v2, v3 = triangle.vertices\n",
    "        \n",
    "        # Add the vertices to the vertices list\n",
    "        vertices.append(v1)\n",
    "        vertices.append(v2)\n",
    "        vertices.append(v3)\n",
    "        \n",
    "        # Calculate the indices of the vertices in the faces list\n",
    "        index1 = len(vertices) - 3\n",
    "        index2 = len(vertices) - 2\n",
    "        index3 = len(vertices) - 1\n",
    "        \n",
    "        # Add the indices to the faces list\n",
    "        faces.append([index1, index2, index3])\n",
    "\n",
    "    # Convert the vertices and faces lists to numpy arrays\n",
    "    vertices = np.array(vertices)\n",
    "    faces = np.array(faces)\n",
    "\n",
    "    # Create the PolyMesh\n",
    "    mesh = PolyMesh(vertices=vertices, triangle_indices=faces)\n",
    "    meshes.append(mesh)\n",
    "\n",
    "#print(meshes[0].vertices)\n"
   ]
  },
  {
   "cell_type": "code",
   "execution_count": 9,
   "metadata": {},
   "outputs": [
    {
     "data": {
      "application/vnd.jupyter.widget-view+json": {
       "model_id": "d4c2eeb6769f45fa8ded86bffed3f049",
       "version_major": 2,
       "version_minor": 0
      },
      "text/plain": [
       "Scene(children=[PolyMesh(data=[], triangle_indices=array([ 0,  1,  2,  3,  4,  5,  6,  7,  8,  9, 10, 11, 12, …"
      ]
     },
     "execution_count": 9,
     "metadata": {},
     "output_type": "execute_result"
    }
   ],
   "source": [
    "#Draw the whole building\n",
    "from ipygany import Scene\n",
    "\n",
    "sceneHouse = Scene(meshes)\n",
    "sceneHouse"
   ]
  },
  {
   "cell_type": "code",
   "execution_count": 10,
   "metadata": {},
   "outputs": [
    {
     "data": {
      "application/vnd.jupyter.widget-view+json": {
       "model_id": "61d793d7c8904648b8a2bc035ee2cecb",
       "version_major": 2,
       "version_minor": 0
      },
      "text/plain": [
       "Scene(children=[PolyMesh(data=[], triangle_indices=array([ 0,  1,  2,  3,  4,  5,  6,  7,  8,  9, 10, 11, 12, …"
      ]
     },
     "execution_count": 10,
     "metadata": {},
     "output_type": "execute_result"
    }
   ],
   "source": [
    "walls = [mesh for mesh in meshes if (mesh.vertices[2::3].max()- mesh.vertices[2::3].min())> 6]\n",
    "\n",
    "sceneWalls = Scene(walls)\n",
    "sceneWalls\n"
   ]
  },
  {
   "cell_type": "code",
   "execution_count": 11,
   "metadata": {},
   "outputs": [
    {
     "data": {
      "application/vnd.jupyter.widget-view+json": {
       "model_id": "09f3183406e240d1bf39ad9fffed8860",
       "version_major": 2,
       "version_minor": 0
      },
      "text/plain": [
       "Scene(children=[PolyMesh(data=[], triangle_indices=array([ 0,  1,  2,  3,  4,  5,  6,  7,  8,  9, 10, 11, 12, …"
      ]
     },
     "execution_count": 11,
     "metadata": {},
     "output_type": "execute_result"
    }
   ],
   "source": [
    "roof = [mesh for mesh in meshes if not (mesh.vertices[2::3].max()- mesh.vertices[2::3].min())> 6]\n",
    "\n",
    "sceneRoof = Scene(roof)\n",
    "sceneRoof"
   ]
  },
  {
   "cell_type": "code",
   "execution_count": 12,
   "metadata": {},
   "outputs": [
    {
     "name": "stdout",
     "output_type": "stream",
     "text": [
      "[PolyMesh(data=[], triangle_indices=array([ 0,  1,  2,  3,  4,  5,  6,  7,  8,  9, 10, 11, 12, 13, 14, 15, 16,\n",
      "       17]), vertices=array([ 2.3208126e-01,  7.5382614e+00,  4.7630200e+02, -3.5379400e+00,\n",
      "        5.9235096e+00,  4.6933499e+02, -3.5379400e+00,  5.9235096e+00,\n",
      "        4.7630200e+02,  2.3208126e-01,  7.5382614e+00,  4.6933499e+02,\n",
      "       -3.5379400e+00,  5.9235096e+00,  4.6933499e+02,  2.3208126e-01,\n",
      "        7.5382614e+00,  4.7630200e+02, -2.1757424e+00,  2.7445581e+00,\n",
      "        4.7764099e+02, -2.1757424e+00,  2.7445581e+00,  4.6933499e+02,\n",
      "       -5.4050355e+00,  1.3611650e+00,  4.7764099e+02, -2.1757424e+00,\n",
      "        2.7445581e+00,  4.6933499e+02, -5.4050355e+00,  1.3611650e+00,\n",
      "        4.6933499e+02, -5.4050355e+00,  1.3611650e+00,  4.7764099e+02,\n",
      "       -1.5932719e+00, -7.5392604e+00,  4.7864801e+02,  5.4050426e+00,\n",
      "       -4.5410995e+00,  4.6933499e+02,  5.4050426e+00, -4.5410995e+00,\n",
      "        4.7864801e+02, -1.5932719e+00, -7.5392604e+00,  4.7864801e+02,\n",
      "       -1.5932719e+00, -7.5392604e+00,  4.6933499e+02,  5.4050426e+00,\n",
      "       -4.5410995e+00,  4.6933499e+02], dtype=float32))]\n"
     ]
    },
    {
     "data": {
      "application/vnd.jupyter.widget-view+json": {
       "model_id": "cb7e4c636a1c4230ba6d1949dd981310",
       "version_major": 2,
       "version_minor": 0
      },
      "text/plain": [
       "Scene(children=[PolyMesh(data=[], triangle_indices=array([ 0,  1,  2,  3,  4,  5,  6,  7,  8,  9, 10, 11, 12, …"
      ]
     },
     "execution_count": 12,
     "metadata": {},
     "output_type": "execute_result"
    }
   ],
   "source": [
    "num_triangles = len(walls[0].vertices)/9\n",
    "ns_walls, we_walls = [], []\n",
    "ns_vertices, we_vertices = [], []\n",
    "ns_faces, we_faces = [], []\n",
    "triangles = []\n",
    "ns_index=0\n",
    "we_index=0\n",
    "for i in range(int(num_triangles)):\n",
    "    triangle= walls[0].vertices[i*9:(i+1)*9]\n",
    "    triangles.append(triangle)\n",
    "for triangle in triangles:\n",
    "    x1, y1, z1 = triangle[0], triangle[1], triangle[2]\n",
    "    x2, y2, z2 = triangle[3], triangle[4], triangle[5]\n",
    "    x3, y3, z3 = triangle[6], triangle[7], triangle[8]\n",
    "\n",
    "    dir12 = np.array([abs(x2 - x1), abs(y2 - y1)])\n",
    "    dir13 = np.array([abs(x3 - x1), abs(y3 - y1)])\n",
    "    dir23 = np.array([abs(x3 - x2), abs(y3 - y2)])\n",
    "\n",
    "    if(max(dir12[0], dir13[0], dir23[0])>max(dir12[1],dir13[1],dir23[1])):\n",
    "        ns_vertices.append(triangle)\n",
    "        ns_faces.append([ns_index, ns_index+1, ns_index+2])\n",
    "        ns_index+=3\n",
    "\n",
    "    else:\n",
    "        we_vertices.append(triangle)\n",
    "        we_faces.append([we_index, we_index+1, we_index+2])\n",
    "        we_index+=3\n",
    "\n",
    "ns_walls.append(PolyMesh(vertices=ns_vertices, triangle_indices=ns_faces))\n",
    "we_walls.append(PolyMesh(vertices=we_vertices, triangle_indices=we_faces))\n",
    "\n",
    "print(ns_walls)\n",
    "\n",
    "sceneNS =Scene(we_walls)\n",
    "sceneNS\n"
   ]
  },
  {
   "cell_type": "code",
   "execution_count": 13,
   "metadata": {},
   "outputs": [
    {
     "name": "stdout",
     "output_type": "stream",
     "text": [
      "[0.23208126, 7.5382614, -3.53794, 5.9235096, -3.53794, 5.9235096, 0.23208126, 7.5382614, -3.53794, 5.9235096, 0.23208126, 7.5382614, -2.1757424, 2.744558, -2.1757424, 2.744558, -5.4050355, 1.361165, -2.1757424, 2.744558, -5.4050355, 1.361165, -5.4050355, 1.361165, -1.5932719, -7.5392604, 5.4050426, -4.5410995, 5.4050426, -4.5410995, -1.5932719, -7.5392604, -1.5932719, -7.5392604, 5.4050426, -4.5410995]\n",
      "[5.4050426, -4.5410995, 5.4050426, -4.5410995, 3.954176, -1.1537193, 3.954176, -1.1537193, 0.23208126, 7.5382614, 0.23208126, 7.5382614, 5.4050426, -4.5410995, 0.23208126, 7.5382614, 3.954176, -1.1537193, -3.53794, 5.9235096, -2.1757424, 2.744558, -2.1757424, 2.744558, -3.53794, 5.9235096, -2.1757424, 2.744558, -3.53794, 5.9235096, -5.4050355, 1.361165, -5.4050355, 1.361165, -3.0441387, -4.1518803, -3.0441387, -4.1518803, -1.5932719, -7.5392604, -1.5932719, -7.5392604, -5.4050355, 1.361165, -1.5932719, -7.5392604, -3.0441387, -4.1518803]\n"
     ]
    }
   ],
   "source": [
    "wallsNS2D, wallsWE2D = [], []\n",
    "for i in range(len(ns_walls[0].vertices)):\n",
    "    if not i % 3 == 2:\n",
    "        wallsNS2D.append(ns_walls[0].vertices[i])\n",
    "\n",
    "for i in range(len(we_walls[0].vertices)):\n",
    "    if not i % 3 == 2:\n",
    "        wallsWE2D.append(we_walls[0].vertices[i])\n",
    "\n",
    "\n",
    "print(wallsNS2D)\n",
    "print(wallsWE2D)"
   ]
  },
  {
   "cell_type": "code",
   "execution_count": 59,
   "metadata": {},
   "outputs": [
    {
     "name": "stdout",
     "output_type": "stream",
     "text": [
      "w walls\n",
      "\n",
      "w walls\n",
      "\n",
      "w walls\n",
      "\n",
      "w walls\n",
      "\n",
      "w walls\n",
      "\n",
      "w walls\n",
      "\n",
      "w walls\n",
      "\n",
      "w walls\n",
      "\n",
      "same wall\n",
      "same wall\n",
      "w walls\n",
      "\n",
      "same wall\n",
      "same wall\n",
      "w walls\n",
      "\n"
     ]
    },
    {
     "data": {
      "image/png": "[encoded data removed]",
      "text/plain": [
       "<Figure size 500x2000 with 10 Axes>"
      ]
     },
     "metadata": {},
     "output_type": "display_data"
    },
    {
     "name": "stdout",
     "output_type": "stream",
     "text": [
      "[PolyMesh(data=[])]\n",
      "[PolyMesh(data=[], triangle_indices=array([ 0,  1,  2,  3,  4,  5,  6,  7,  8,  9, 10, 11, 12, 13, 14, 15, 16,\n",
      "       17, 18, 19, 20, 21, 22, 23, 24, 25, 26, 27, 28, 29]), vertices=array([-1.72624612e+00,  1.05013981e+01,  4.28503998e+02, -6.74176872e-01,\n",
      "        9.06252766e+00,  4.40289001e+02, -6.74176872e-01,  9.06252766e+00,\n",
      "        4.28503998e+02, -1.72624612e+00,  1.05013981e+01,  4.40289001e+02,\n",
      "       -6.74176872e-01,  9.06252766e+00,  4.40289001e+02, -1.72624612e+00,\n",
      "        1.05013981e+01,  4.28503998e+02, -6.50628614e+00, -1.32081676e+00,\n",
      "        4.28503998e+02, -1.04738045e+01,  4.10580540e+00,  4.38802002e+02,\n",
      "       -1.04738045e+01,  4.10580540e+00,  4.28503998e+02, -6.50628614e+00,\n",
      "       -1.32081676e+00,  4.38803009e+02, -1.04738045e+01,  4.10580540e+00,\n",
      "        4.38802002e+02, -6.50628614e+00, -1.32081676e+00,  4.28503998e+02,\n",
      "       -1.07515335e-01, -7.30229473e+00,  4.28503998e+02, -5.18581247e+00,\n",
      "       -3.55860740e-01,  4.40151001e+02, -5.18581247e+00, -3.55860740e-01,\n",
      "        4.28503998e+02, -1.07515335e-01, -7.30229473e+00,  4.40151001e+02,\n",
      "       -5.18581247e+00, -3.55860740e-01,  4.40151001e+02, -1.07515335e-01,\n",
      "       -7.30229473e+00,  4.28503998e+02,  2.32729745e+00, -1.21424103e+01,\n",
      "        4.39415985e+02, -8.25958908e-01, -7.82884550e+00,  4.39416992e+02,\n",
      "       -8.25958908e-01, -7.82884550e+00,  4.28503998e+02,  2.32729745e+00,\n",
      "       -1.21424103e+01,  4.39415985e+02, -8.25958908e-01, -7.82884550e+00,\n",
      "        4.28503998e+02,  2.32729745e+00, -1.21424103e+01,  4.28503998e+02,\n",
      "        4.65073442e+00,  1.77813888e+00,  4.28503998e+02,  1.04738092e+01,\n",
      "       -6.18623829e+00,  4.40289001e+02,  1.04738092e+01, -6.18623829e+00,\n",
      "        4.28503998e+02,  4.65073442e+00,  1.77813888e+00,  4.40289001e+02,\n",
      "        1.04738092e+01, -6.18623829e+00,  4.40289001e+02,  4.65073442e+00,\n",
      "        1.77813888e+00,  4.28503998e+02], dtype=float32))]\n"
     ]
    },
    {
     "data": {
      "application/vnd.jupyter.widget-view+json": {
       "model_id": "f81f20c5abf64a93b2e40318a0806274",
       "version_major": 2,
       "version_minor": 0
      },
      "text/plain": [
       "Scene(children=[PolyMesh(data=[], triangle_indices=array([ 0,  1,  2,  3,  4,  5,  6,  7,  8,  9, 10, 11, 12, …"
      ]
     },
     "execution_count": 59,
     "metadata": {},
     "output_type": "execute_result"
    }
   ],
   "source": [
    "from math import isclose\n",
    "import matplotlib.pyplot as plt\n",
    "\n",
    "n_walls, e_walls, s_walls, w_walls = [], [], [], []\n",
    "n_walls_vertices, e_walls_vertices, s_walls_vertices, w_walls_vertices = [], [], [], []\n",
    "vectorsNS=[]\n",
    "vectorsWE=[]\n",
    "\n",
    "for i in range(0, len(wallsNS2D), 6):\n",
    "    x1, y1, x2, y2, x3, y3 = wallsNS2D[i], wallsNS2D[i+1], wallsNS2D[i+2], wallsNS2D[i+3], wallsNS2D[i+4], wallsNS2D[i+5]\n",
    "    if (x1 != x2):\n",
    "        dx = x2-x1\n",
    "        dy = y2-y1\n",
    "    else:\n",
    "        dx = x3-x1\n",
    "        dy = y3-y1\n",
    "    vectorsNS.append([x1, y1, dx, dy])\n",
    "    \n",
    "for i in range(0, len(wallsWE2D), 6):\n",
    "    x1, y1, x2, y2, x3, y3 = wallsWE2D[i], wallsWE2D[i+1], wallsWE2D[i+2], wallsWE2D[i+3], wallsWE2D[i+4], wallsWE2D[i+5]\n",
    "    if (x1 != x2):\n",
    "        dx = x2-x1\n",
    "        dy = y2-y1\n",
    "    else:\n",
    "        dx = x3-x1\n",
    "        dy = y3-y1\n",
    "    vectorsWE.append([x1, y1, dx, dy])\n",
    "\n",
    "def intersection(s1 , s2):\n",
    "    m1, c1 = s1\n",
    "    m2, c2 = s2\n",
    "\n",
    "    if m1 == m2:\n",
    "        return None\n",
    "    else:\n",
    "        x= (c2-c1)/(m1-m2)\n",
    "        y= m1*x+c1\n",
    "        return (x, y)\n",
    "    \n",
    "for i in range(len(vectorsNS)):\n",
    "    x1, y1, dx, dy = vectorsNS[i]\n",
    "    vector90= -dx/dy\n",
    "    xmid, ymid = x1+dx/2, y1+dy/2\n",
    "    straight = (vector90, ymid - vector90*xmid)\n",
    "\n",
    "    for othervectors in vectorsNS:\n",
    "        ox1, oy1, odx, ody = othervectors\n",
    "        if (ox1 == x1 and oy1 == y1 and odx == dx and ody == dy):\n",
    "            continue\n",
    "        s2= (ody/odx, oy1-ody/odx*ox1)\n",
    "        if intersection(straight, s2) == None:\n",
    "            continue\n",
    "        else:\n",
    "            intersectionpoint = intersection(straight, s2)\n",
    "            if isclose(intersectionpoint[0], xmid, rel_tol=1e-3) and isclose(intersectionpoint[1] , ymid, rel_tol=1e-3):\n",
    "                continue\n",
    "            elif(intersectionpoint[0] >= min(ox1,ox1+odx) and intersectionpoint[0] <= max(ox1,ox1+odx) and intersectionpoint[1] >= min(oy1,oy1+ody) and intersectionpoint[1] <= max(oy1,oy1+ody) and min(oy1,oy1+ody)>=min(y1,y1+dy)):\n",
    "                s_walls_vertices.append(ns_walls[0].vertices[i*9: i*9+9])             \n",
    "                break\n",
    "\n",
    "            else:\n",
    "                n_walls_vertices.append(ns_walls[0].vertices[i*9: i*9+9])\n",
    "                break\n",
    "\n",
    "num_rows = len(vectorsWE)\n",
    "num_cols=1\n",
    "\n",
    "fig, axs = plt.subplots(num_rows, num_cols, figsize=(5,20))\n",
    "\n",
    "for i in range(len(vectorsWE)):\n",
    "    x1, y1, dx, dy = vectorsWE[i]\n",
    "    vector90= -dx/dy\n",
    "    xmid, ymid = x1+dx/2, y1+dy/2\n",
    "    straight = (vector90, ymid - vector90*xmid)\n",
    "    #print (i, x1, y1, dx, dy, straight)\n",
    "    #print(xmid, ymid)\n",
    "    for othervectors in vectorsWE:\n",
    "        ox1, oy1, odx, ody = othervectors\n",
    "        axs[i].plot([ox1, ox1+odx], [oy1, oy1+ody])\n",
    "        \n",
    "        if (ox1 == x1 and oy1 == y1 and odx == dx and ody == dy):\n",
    "            continue\n",
    "        s2= (ody/odx, oy1-ody/odx*ox1)\n",
    "        #print(i, ox1, oy1, odx, ody, s2)\n",
    "        axs[i].plot(intersection(straight, s2)[0], intersection(straight, s2)[1], 'ro')\n",
    "        if intersection(straight, s2) == None:\n",
    "            continue\n",
    "        else:\n",
    "            intersectionpoint = intersection(straight, s2)\n",
    "            #print(intersectionpoint)\n",
    "            if isclose(intersectionpoint[0], xmid, rel_tol=1e-3) and isclose(intersectionpoint[1] , ymid, rel_tol=1e-3):\n",
    "                print(\"same wall\")\n",
    "                continue\n",
    "            elif(intersectionpoint[0] >= min(ox1,ox1+odx) and intersectionpoint[0] <= max(ox1,ox1+odx) and intersectionpoint[1] >= min(oy1,oy1+ody) and intersectionpoint[1] <= max(oy1,oy1+ody) and min(ox1,ox1+odx)>=min(x1,x1+dx)):\n",
    "                w_walls_vertices.append(we_walls[0].vertices[i*9: i*9+9])\n",
    "                print(\"e walls\")\n",
    "                break\n",
    "            else:\n",
    "                print(\"w walls\")\n",
    "                e_walls_vertices.append(we_walls[0].vertices[i*9: i*9+9])\n",
    "                break\n",
    "    axs[i].plot([x1, x1+dx], [y1, y1+dy], 'r+')\n",
    "    axs[i].plot(xmid, ymid, 'bo') \n",
    "    axs[i].axis('equal')\n",
    "\n",
    "    print(\"\")\n",
    "\n",
    "plt.show()\n",
    "\n",
    "n_walls.append(PolyMesh(vertices=n_walls_vertices, triangle_indices=range(len(n_walls_vertices)*3)))\n",
    "s_walls.append(PolyMesh(vertices=s_walls_vertices, triangle_indices=range(len(s_walls_vertices)*3)))\n",
    "w_walls.append(PolyMesh(vertices=w_walls_vertices, triangle_indices=range(len(w_walls_vertices)*3)))\n",
    "e_walls.append(PolyMesh(vertices=e_walls_vertices, triangle_indices=range(len(e_walls_vertices)*3)))\n",
    "\n",
    "print(w_walls)\n",
    "print(e_walls)\n",
    "\n",
    "walls=Scene(n_walls)\n",
    "walls"
   ]
  },
  {
   "cell_type": "code",
   "execution_count": 29,
   "metadata": {},
   "outputs": [
    {
     "data": {
      "image/png": "[encoded data removed]",
      "text/plain": [
       "<Figure size 640x480 with 1 Axes>"
      ]
     },
     "metadata": {},
     "output_type": "display_data"
    },
    {
     "name": "stdout",
     "output_type": "stream",
     "text": [
      "[<__main__.Wall object at 0x0000022F795AC390>, <__main__.Wall object at 0x0000022F7B922290>, <__main__.Wall object at 0x0000022F7B921CD0>, <__main__.Wall object at 0x0000022F7B921A50>, <__main__.Wall object at 0x0000022F7B923290>, <__main__.Wall object at 0x0000022F7B923890>, <__main__.Wall object at 0x0000022F7B920E50>, <__main__.Wall object at 0x0000022F7952BB90>]\n",
      "True\n"
     ]
    }
   ],
   "source": [
    "import math\n",
    "import matplotlib.pyplot as plt\n",
    "\n",
    "class Point:\n",
    "    def __init__(self, x, y):\n",
    "        self.x = x\n",
    "        self.y = y\n",
    "\n",
    "class Wall:\n",
    "    def __init__(self, start, end):\n",
    "        self.start = start\n",
    "        self.end = end\n",
    "\n",
    "def is_visible(walls, observer, direction):\n",
    "    #Create imaginary line from observer to wall\n",
    "    ray_end = Point(observer.x + 10*math.cos(direction), observer.y + 10*math.sin(direction))\n",
    "\n",
    "    #Check if the wall intersects the line\n",
    "    for wall in walls:\n",
    "        if intersect(observer, ray_end, wall.start, wall.end):\n",
    "            return False #Wall blocks the view\n",
    "    return True #No wall blocks the view\n",
    "\n",
    "def intersect(p1, p2, p3, p4):\n",
    "    #Check if lines intersect\n",
    "    def ccw(A,B,C):\n",
    "        return (C.y-A.y)*(B.x-A.x) > (B.y-A.y)*(C.x-A.x)\n",
    "    return ccw(p1,p3,p4) != ccw(p2,p3,p4) and ccw(p1,p2,p3) != ccw(p1,p2,p4)\n",
    "\n",
    "wallsWE=[]\n",
    "for i in range(0, len(wallsWE2D),6):\n",
    "    x1, y1, x2, y2, x3, y3 = wallsWE2D[i], wallsWE2D[i+1], wallsWE2D[i+2], wallsWE2D[i+3], wallsWE2D[i+4], wallsWE2D[i+5]\n",
    "    if(x1 <= x2 and x2 < x3):\n",
    "        wallsWE.append(Wall(Point(x1, y1), Point(x3, y3)))\n",
    "    elif(x1 <= x3 and x3 < x2):\n",
    "        wallsWE.append(Wall(Point(x1, y1), Point(x2, y2)))\n",
    "    elif(x2 <= x1 and x1 < x3):\n",
    "        wallsWE.append(Wall(Point(x2, y2), Point(x3, y3)))\n",
    "    elif(x2 <= x3 and x3 < x1):\n",
    "        wallsWE.append(Wall(Point(x2, y2), Point(x1, y1)))\n",
    "    elif(x3 <= x1 and x1 < x2):\n",
    "        wallsWE.append(Wall(Point(x3, y3), Point(x2, y2)))\n",
    "    else:\n",
    "        wallsWE.append(Wall(Point(x3, y3), Point(x1, y1)))\n",
    "\n",
    "observer_west = Point(-20, 5)\n",
    "direction_west = math.pi*2\n",
    "\n",
    "plt.plot(observer_west.x, observer_west.y, 'ro', label='Observer')\n",
    "ray_end = Point(observer_west.x + 50*math.cos(direction_west), observer_west.y + 50*math.sin(direction_west))\n",
    "plt.plot([observer_west.x, ray_end.x], [observer_west.y, ray_end.y], 'b--', label='Ray')\n",
    "for wall in wallsWE:\n",
    "    plt.plot([wall.start.x, wall.end.x], [wall.start.y, wall.end.y], 'k-', label='Wall')\n",
    "\n",
    "plt.xlabel('X')\n",
    "plt.ylabel('Y')\n",
    "plt.title('Visibility Analysis')\n",
    "plt.legend()\n",
    "plt.grid(True)\n",
    "plt.axis('equal')\n",
    "plt.show()\n",
    "\n",
    "visible_walls_west = is_visible(wallsWE, observer_west, direction_west)\n",
    "print(wallsWE)\n",
    "print(visible_walls_west)\n",
    "\n",
    "    \n",
    "    "
   ]
  },
  {
   "cell_type": "code",
   "execution_count": 52,
   "metadata": {},
   "outputs": [],
   "source": [
    "#Strecke des Dreiecks -> Vektor mit positivem y-Wert von Punkt x1, y1 Vergleich mit jeder längsten Strecke jedess Dreieck\n",
    "\n"
   ]
  },
  {
   "cell_type": "markdown",
   "metadata": {},
   "source": [
    "## Upload images from the building"
   ]
  },
  {
   "cell_type": "code",
   "execution_count": null,
   "metadata": {},
   "outputs": [],
   "source": []
  }
 ],
 "metadata": {
  "kernelspec": {
   "display_name": ".venv",
   "language": "python",
   "name": "python3"
  },
  "language_info": {
   "codemirror_mode": {
    "name": "ipython",
    "version": 3
   },
   "file_extension": ".py",
   "mimetype": "text/x-python",
   "name": "python",
   "nbconvert_exporter": "python",
   "pygments_lexer": "ipython3",
   "version": "3.11.3"
  }
 },
 "nbformat": 4,
 "nbformat_minor": 2
}
