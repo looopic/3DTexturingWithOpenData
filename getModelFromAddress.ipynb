{
 "cells": [
  {
   "cell_type": "markdown",
   "metadata": {},
   "source": [
    "# Get from Address to Model"
   ]
  },
  {
   "cell_type": "code",
   "execution_count": 1,
   "metadata": {},
   "outputs": [],
   "source": [
    "import urllib\n",
    "import requests\n",
    "import json"
   ]
  },
  {
   "cell_type": "markdown",
   "metadata": {},
   "source": [
    "## Geo-Admin API\n",
    "Access of the API"
   ]
  },
  {
   "cell_type": "code",
   "execution_count": 7,
   "metadata": {},
   "outputs": [
    {
     "name": "stdout",
     "output_type": "stream",
     "text": [
      "{'results': [{'attrs': {'detail': 'widmergasse 19 8466 truellikon 40 truellikon ch zh', 'featureId': '12870_0', 'geom_quadindex': '012232210032122231000', 'geom_st_box2d': 'BOX(694347.29027415 276686.7814323578,694347.29027415 276686.7814323578)', 'label': 'Widmergasse 19 <b>8466 Trüllikon</b>', 'lat': 47.63404846191406, 'lon': 8.694016456604004, 'num': 19, 'objectclass': '', 'origin': 'address', 'rank': 7, 'x': 276686.78125, 'y': 694347.3125, 'zoomlevel': 10}, 'id': 7555, 'weight': 1}, {'attrs': {'detail': 'widmergasse 19.1 8466 truellikon 40 truellikon ch zh', 'featureId': '210226908_0', 'geom_quadindex': '012232210032122310321', 'geom_st_box2d': 'BOX(694360.3364026649 276691.3415635696,694360.3364026649 276691.3415635696)', 'label': 'Widmergasse 19.1 <b>8466 Trüllikon</b>', 'lat': 47.634090423583984, 'lon': 8.694190979003906, 'num': 191, 'objectclass': '', 'origin': 'address', 'rank': 7, 'x': 276691.34375, 'y': 694360.3125, 'zoomlevel': 10}, 'id': 2195186, 'weight': 7}, {'attrs': {'detail': 'widmergasse 19.2 8466 truellikon 40 truellikon ch zh', 'featureId': '210226972_0', 'geom_quadindex': '012232210032301021330', 'geom_st_box2d': 'BOX(694372.001495032 276669.4795108603,694372.001495032 276669.4795108603)', 'label': 'Widmergasse 19.2 <b>8466 Trüllikon</b>', 'lat': 47.63389205932617, 'lon': 8.694341659545898, 'num': 192, 'objectclass': '', 'origin': 'address', 'rank': 7, 'x': 276669.46875, 'y': 694372.0, 'zoomlevel': 10}, 'id': 2186246, 'weight': 7}]}\n"
     ]
    }
   ],
   "source": [
    "#Definition of parameters\n",
    "text = input(\"Please enter an address: \") #Input of the address to search for\n",
    "base_url=\"https://api3.geo.admin.ch/rest/services/api/SearchServer?\"\n",
    "parameters = {\"searchText\": text, \"origins\": \"address\", \"type\": \"locations\",}\n",
    "\n",
    "#Request\n",
    "r = requests.get(f\"{base_url}{urllib.parse.urlencode(parameters)}\")\n",
    "\n",
    "data = json.loads(r.content)\n",
    "print(data)"
   ]
  },
  {
   "cell_type": "markdown",
   "metadata": {},
   "source": [
    "Geographic display of returned results"
   ]
  },
  {
   "cell_type": "code",
   "execution_count": 8,
   "metadata": {},
   "outputs": [
    {
     "data": {
      "text/html": [
       "<div style=\"width:100%;\"><div style=\"position:relative;width:100%;height:0;padding-bottom:60%;\"><span style=\"color:#565656\">Make this Notebook Trusted to load map: File -> Trust Notebook</span><iframe srcdoc=\"&lt;!DOCTYPE html&gt;\n",
       "&lt;html&gt;\n",
       "&lt;head&gt;\n",
       "    \n",
       "    &lt;meta http-equiv=&quot;content-type&quot; content=&quot;text/html; charset=UTF-8&quot; /&gt;\n",
       "    \n",
       "        &lt;script&gt;\n",
       "            L_NO_TOUCH = false;\n",
       "            L_DISABLE_3D = false;\n",
       "        &lt;/script&gt;\n",
       "    \n",
       "    &lt;style&gt;html, body {width: 100%;height: 100%;margin: 0;padding: 0;}&lt;/style&gt;\n",
       "    &lt;style&gt;#map {position:absolute;top:0;bottom:0;right:0;left:0;}&lt;/style&gt;\n",
       "    &lt;script src=&quot;https://cdn.jsdelivr.net/npm/leaflet@1.9.3/dist/leaflet.js&quot;&gt;&lt;/script&gt;\n",
       "    &lt;script src=&quot;https://code.jquery.com/jquery-3.7.1.min.js&quot;&gt;&lt;/script&gt;\n",
       "    &lt;script src=&quot;https://cdn.jsdelivr.net/npm/bootstrap@5.2.2/dist/js/bootstrap.bundle.min.js&quot;&gt;&lt;/script&gt;\n",
       "    &lt;script src=&quot;https://cdnjs.cloudflare.com/ajax/libs/Leaflet.awesome-markers/2.0.2/leaflet.awesome-markers.js&quot;&gt;&lt;/script&gt;\n",
       "    &lt;link rel=&quot;stylesheet&quot; href=&quot;https://cdn.jsdelivr.net/npm/leaflet@1.9.3/dist/leaflet.css&quot;/&gt;\n",
       "    &lt;link rel=&quot;stylesheet&quot; href=&quot;https://cdn.jsdelivr.net/npm/bootstrap@5.2.2/dist/css/bootstrap.min.css&quot;/&gt;\n",
       "    &lt;link rel=&quot;stylesheet&quot; href=&quot;https://netdna.bootstrapcdn.com/bootstrap/3.0.0/css/bootstrap.min.css&quot;/&gt;\n",
       "    &lt;link rel=&quot;stylesheet&quot; href=&quot;https://cdn.jsdelivr.net/npm/@fortawesome/fontawesome-free@6.2.0/css/all.min.css&quot;/&gt;\n",
       "    &lt;link rel=&quot;stylesheet&quot; href=&quot;https://cdnjs.cloudflare.com/ajax/libs/Leaflet.awesome-markers/2.0.2/leaflet.awesome-markers.css&quot;/&gt;\n",
       "    &lt;link rel=&quot;stylesheet&quot; href=&quot;https://cdn.jsdelivr.net/gh/python-visualization/folium/folium/templates/leaflet.awesome.rotate.min.css&quot;/&gt;\n",
       "    \n",
       "            &lt;meta name=&quot;viewport&quot; content=&quot;width=device-width,\n",
       "                initial-scale=1.0, maximum-scale=1.0, user-scalable=no&quot; /&gt;\n",
       "            &lt;style&gt;\n",
       "                #map_feb67c6754ee9638a9c0b6cb444565d7 {\n",
       "                    position: relative;\n",
       "                    width: 100.0%;\n",
       "                    height: 100.0%;\n",
       "                    left: 0.0%;\n",
       "                    top: 0.0%;\n",
       "                }\n",
       "                .leaflet-container { font-size: 1rem; }\n",
       "            &lt;/style&gt;\n",
       "        \n",
       "&lt;/head&gt;\n",
       "&lt;body&gt;\n",
       "    \n",
       "    \n",
       "            &lt;div class=&quot;folium-map&quot; id=&quot;map_feb67c6754ee9638a9c0b6cb444565d7&quot; &gt;&lt;/div&gt;\n",
       "        \n",
       "&lt;/body&gt;\n",
       "&lt;script&gt;\n",
       "    \n",
       "    \n",
       "            var map_feb67c6754ee9638a9c0b6cb444565d7 = L.map(\n",
       "                &quot;map_feb67c6754ee9638a9c0b6cb444565d7&quot;,\n",
       "                {\n",
       "                    center: [47.63404846191406, 8.694016456604004],\n",
       "                    crs: L.CRS.EPSG3857,\n",
       "                    zoom: 20,\n",
       "                    zoomControl: true,\n",
       "                    preferCanvas: false,\n",
       "                }\n",
       "            );\n",
       "\n",
       "            \n",
       "\n",
       "        \n",
       "    \n",
       "            var tile_layer_f75f015c01e4109ede9611c7740479a1 = L.tileLayer(\n",
       "                &quot;https://tile.openstreetmap.org/{z}/{x}/{y}.png&quot;,\n",
       "                {&quot;attribution&quot;: &quot;\\u0026copy; \\u003ca href=\\&quot;https://www.openstreetmap.org/copyright\\&quot;\\u003eOpenStreetMap\\u003c/a\\u003e contributors&quot;, &quot;detectRetina&quot;: false, &quot;maxNativeZoom&quot;: 19, &quot;maxZoom&quot;: 19, &quot;minZoom&quot;: 0, &quot;noWrap&quot;: false, &quot;opacity&quot;: 1, &quot;subdomains&quot;: &quot;abc&quot;, &quot;tms&quot;: false}\n",
       "            );\n",
       "        \n",
       "    \n",
       "            tile_layer_f75f015c01e4109ede9611c7740479a1.addTo(map_feb67c6754ee9638a9c0b6cb444565d7);\n",
       "        \n",
       "    \n",
       "            var marker_4c005e8529953a18fdbbf1061073f34c = L.marker(\n",
       "                [47.63404846191406, 8.694016456604004],\n",
       "                {}\n",
       "            ).addTo(map_feb67c6754ee9638a9c0b6cb444565d7);\n",
       "        \n",
       "    \n",
       "        var popup_bfd5ababe001e6a2cd2e019fd57bbfa8 = L.popup({&quot;maxWidth&quot;: &quot;100%&quot;});\n",
       "\n",
       "        \n",
       "            \n",
       "                var html_a1843dd90035a2c70075a97ab4c4c31d = $(`&lt;div id=&quot;html_a1843dd90035a2c70075a97ab4c4c31d&quot; style=&quot;width: 100.0%; height: 100.0%;&quot;&gt;Index: 0&lt;/div&gt;`)[0];\n",
       "                popup_bfd5ababe001e6a2cd2e019fd57bbfa8.setContent(html_a1843dd90035a2c70075a97ab4c4c31d);\n",
       "            \n",
       "        \n",
       "\n",
       "        marker_4c005e8529953a18fdbbf1061073f34c.bindPopup(popup_bfd5ababe001e6a2cd2e019fd57bbfa8)\n",
       "        ;\n",
       "\n",
       "        \n",
       "    \n",
       "    \n",
       "            var marker_b8c3e1d25d627809e95d2b2a0e7c39b1 = L.marker(\n",
       "                [47.634090423583984, 8.694190979003906],\n",
       "                {}\n",
       "            ).addTo(map_feb67c6754ee9638a9c0b6cb444565d7);\n",
       "        \n",
       "    \n",
       "        var popup_158323a6789a676ea8f0725e872a028e = L.popup({&quot;maxWidth&quot;: &quot;100%&quot;});\n",
       "\n",
       "        \n",
       "            \n",
       "                var html_4fd356707c2f0ef15a6f4399bd25fe7e = $(`&lt;div id=&quot;html_4fd356707c2f0ef15a6f4399bd25fe7e&quot; style=&quot;width: 100.0%; height: 100.0%;&quot;&gt;Index: 1&lt;/div&gt;`)[0];\n",
       "                popup_158323a6789a676ea8f0725e872a028e.setContent(html_4fd356707c2f0ef15a6f4399bd25fe7e);\n",
       "            \n",
       "        \n",
       "\n",
       "        marker_b8c3e1d25d627809e95d2b2a0e7c39b1.bindPopup(popup_158323a6789a676ea8f0725e872a028e)\n",
       "        ;\n",
       "\n",
       "        \n",
       "    \n",
       "    \n",
       "            var marker_f1e61e4c5b7ab3dc4ea5078f8b165cf1 = L.marker(\n",
       "                [47.63389205932617, 8.694341659545898],\n",
       "                {}\n",
       "            ).addTo(map_feb67c6754ee9638a9c0b6cb444565d7);\n",
       "        \n",
       "    \n",
       "        var popup_c793fe56ca99e0f5993f2daa0b8e7b0e = L.popup({&quot;maxWidth&quot;: &quot;100%&quot;});\n",
       "\n",
       "        \n",
       "            \n",
       "                var html_00440400ef13ca3c9ffb0ec1e1a6a37c = $(`&lt;div id=&quot;html_00440400ef13ca3c9ffb0ec1e1a6a37c&quot; style=&quot;width: 100.0%; height: 100.0%;&quot;&gt;Index: 2&lt;/div&gt;`)[0];\n",
       "                popup_c793fe56ca99e0f5993f2daa0b8e7b0e.setContent(html_00440400ef13ca3c9ffb0ec1e1a6a37c);\n",
       "            \n",
       "        \n",
       "\n",
       "        marker_f1e61e4c5b7ab3dc4ea5078f8b165cf1.bindPopup(popup_c793fe56ca99e0f5993f2daa0b8e7b0e)\n",
       "        ;\n",
       "\n",
       "        \n",
       "    \n",
       "&lt;/script&gt;\n",
       "&lt;/html&gt;\" style=\"position:absolute;width:100%;height:100%;left:0;top:0;border:none !important;\" allowfullscreen webkitallowfullscreen mozallowfullscreen></iframe></div></div>"
      ],
      "text/plain": [
       "<folium.folium.Map at 0x1c79da77f50>"
      ]
     },
     "execution_count": 8,
     "metadata": {},
     "output_type": "execute_result"
    }
   ],
   "source": [
    "import folium\n",
    "\n",
    "# Create a map centered at the first item's latitude and longitude\n",
    "map_center = [data['results'][0]['attrs']['lat'], data['results'][0]['attrs']['lon']]\n",
    "m = folium.Map(location=map_center, zoom_start=20)\n",
    "\n",
    "# Add markers for each item with annotations\n",
    "for i, result in enumerate(data['results']):\n",
    "    lat = result['attrs']['lat']\n",
    "    lon = result['attrs']['lon']\n",
    "    label = f\"Index: {i}\"\n",
    "    folium.Marker([lat, lon], popup=label).add_to(m)\n",
    "\n",
    "# Display the map\n",
    "m\n"
   ]
  },
  {
   "cell_type": "code",
   "execution_count": 9,
   "metadata": {},
   "outputs": [
    {
     "name": "stdout",
     "output_type": "stream",
     "text": [
      "{'attrs': {'detail': 'widmergasse 19 8466 truellikon 40 truellikon ch zh', 'featureId': '12870_0', 'geom_quadindex': '012232210032122231000', 'geom_st_box2d': 'BOX(694347.29027415 276686.7814323578,694347.29027415 276686.7814323578)', 'label': 'Widmergasse 19 <b>8466 Trüllikon</b>', 'lat': 47.63404846191406, 'lon': 8.694016456604004, 'num': 19, 'objectclass': '', 'origin': 'address', 'rank': 7, 'x': 276686.78125, 'y': 694347.3125, 'zoomlevel': 10}, 'id': 7555, 'weight': 1}\n"
     ]
    }
   ],
   "source": [
    "#Select the desired item\n",
    "index = int(input(\"Please enter the index of the item you want to select: \"))\n",
    "selected_item = data['results'][index]\n",
    "print(selected_item)\n"
   ]
  },
  {
   "cell_type": "markdown",
   "metadata": {},
   "source": [
    "## KML files\n",
    "Check KML files for desired building"
   ]
  },
  {
   "cell_type": "code",
   "execution_count": 27,
   "metadata": {},
   "outputs": [
    {
     "name": "stdout",
     "output_type": "stream",
     "text": [
      "Latitude: 47.63404846191406 Longitude: 8.694016456604004\n",
      "Found 6 KML files ['swissBUILDINGS3D 2.0\\\\1031-44\\\\1031-44.kml', 'swissBUILDINGS3D 2.0\\\\1032-33\\\\1032-33.kml', 'swissBUILDINGS3D 2.0\\\\1032-34\\\\1032-34.kml', 'swissBUILDINGS3D 2.0\\\\1051-22\\\\1051-22.kml', 'swissBUILDINGS3D 2.0\\\\1052-11\\\\1052-11.kml', 'swissBUILDINGS3D 2.0\\\\1052-12\\\\1052-12.kml']\n",
      "KML File: swissBUILDINGS3D 2.0\\1052-11\\1052-11.kml, Latitude: 47.634047498746725, Longitude: 8.694078211780825\n"
     ]
    }
   ],
   "source": [
    "import os\n",
    "import re\n",
    "import math\n",
    "\n",
    "# Define the folder path\n",
    "folder_path = \"swissBUILDINGS3D 2.0\"\n",
    "\n",
    "# Get the latitude and longitude from the selected_item\n",
    "lat = float(selected_item['attrs']['lat'])\n",
    "lon = float(selected_item['attrs']['lon'])\n",
    "print(f\"Latitude: {lat}\", f\"Longitude: {lon}\")\n",
    "\n",
    "# Define the calculate_distance function\n",
    "def calculate_distance(lat1, lon1, lat2, lon2):\n",
    "    # Convert coordinates to radians\n",
    "    lat1_rad = math.radians(lat1)\n",
    "    lon1_rad = math.radians(lon1)\n",
    "    lat2_rad = math.radians(lat2)\n",
    "    lon2_rad = math.radians(lon2)\n",
    "\n",
    "    # Haversine formula\n",
    "    dlon = lon2_rad - lon1_rad\n",
    "    dlat = lat2_rad - lat1_rad\n",
    "    a = math.sin(dlat/2)**2 + math.cos(lat1_rad) * math.cos(lat2_rad) * math.sin(dlon/2)**2\n",
    "    c = 2 * math.atan2(math.sqrt(a), math.sqrt(1-a))\n",
    "    distance = 6371 * c  # Earth radius in kilometers\n",
    "\n",
    "    return distance\n",
    "\n",
    "# Search for KML files in the folder\n",
    "kml_files = []\n",
    "for root, dirs, files in os.walk(folder_path):\n",
    "    for file in files:\n",
    "        if file.endswith(\".kml\"):\n",
    "            kml_files.append(os.path.join(root, file))\n",
    "\n",
    "print(f\"Found {len(kml_files)} KML files\", kml_files)\n",
    "\n",
    "# Define the tolerance in kilometers\n",
    "tolerance = 0.01\n",
    "\n",
    "# List to store the filtered KML data\n",
    "filtered_kml_data = []\n",
    "\n",
    "# Iterate through the KML files\n",
    "for kml_file in kml_files:\n",
    "    with open(kml_file, 'r') as file:\n",
    "        kml_content = file.read()\n",
    "        \n",
    "        # Extract the latitude and longitude values from the KML content\n",
    "        latitudes = re.findall(r'<latitude>(.*?)</latitude>', kml_content)\n",
    "        longitudes = re.findall(r'<longitude>(.*?)</longitude>', kml_content)\n",
    "        \n",
    "        # Convert the latitude and longitude values to float\n",
    "        latitudes = [float(lat) for lat in latitudes]\n",
    "        longitudes = [float(lon) for lon in longitudes]\n",
    "        \n",
    "        # Check if any entry is within the tolerance\n",
    "        for i in range(len(latitudes)):\n",
    "            distance = calculate_distance(lat, lon, latitudes[i], longitudes[i])\n",
    "            if distance <= tolerance:\n",
    "                filtered_kml_data.append((kml_file, latitudes[i], longitudes[i]))\n",
    "\n",
    "# Print the filtered KML data\n",
    "for data in filtered_kml_data:\n",
    "    print(f\"KML File: {data[0]}, Latitude: {data[1]}, Longitude: {data[2]}\")\n",
    "\n"
   ]
  }
 ],
 "metadata": {
  "kernelspec": {
   "display_name": ".venv",
   "language": "python",
   "name": "python3"
  },
  "language_info": {
   "codemirror_mode": {
    "name": "ipython",
    "version": 3
   },
   "file_extension": ".py",
   "mimetype": "text/x-python",
   "name": "python",
   "nbconvert_exporter": "python",
   "pygments_lexer": "ipython3",
   "version": "3.11.3"
  }
 },
 "nbformat": 4,
 "nbformat_minor": 2
}
